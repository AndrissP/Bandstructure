{
 "cells": [
  {
   "cell_type": "code",
   "execution_count": 45,
   "metadata": {},
   "outputs": [],
   "source": [
    "# import numpy as np"
   ]
  },
  {
   "cell_type": "code",
   "execution_count": 52,
   "metadata": {},
   "outputs": [],
   "source": [
    "\n",
    "# a=3   #Latice constant in Åmstrongs\n",
    "# sigma=1 #Very arbitrary value\n",
    "\n",
    "# NrOfK=5\n",
    "# Len_k=3\n",
    "# U=1/1000\n",
    "# kx=2\n",
    "# ky=2\n",
    "# A=-U*np.sqrt(2 *np.pi)*sigma/a\n",
    "# #A=15000000\n"
   ]
  },
  {
   "cell_type": "code",
   "execution_count": 1,
   "metadata": {},
   "outputs": [],
   "source": [
    "from scipy.constants import e, m_e, hbar         "
   ]
  },
  {
   "cell_type": "code",
   "execution_count": 7,
   "metadata": {},
   "outputs": [],
   "source": [
    "# U=300/100\n",
    "# A=-U*np.sqrt(2 *np.pi)*sigma/a\n",
    "\n",
    "NormC = hbar**2/(2*m_e)*10**(20)/e\n",
    "\n",
    "\n",
    "def BandStructF(*args):\n",
    "    k_x=np.pi/(a)*kx/Len_k \n",
    "    k_y=np.pi/(a)*ky/Len_k\n",
    "    Eig=np.zeros(shape=(NrOfK, NrOfK))\n",
    "    for i in range (NrOfK):\n",
    "        Eig[i,i] = NormC*((k_x+G_list[i,0])**2+(k_y+G_list[i,1])**2) + A\n",
    "        for j in range(i+1,NrOfK):\n",
    "            diff_G=(G_list[i,0]-G_list[j,0])**2+(G_list[i,1]-G_list[j,1])**2\n",
    "            Eig[i,j]=Eig[j,i]=A*np.exp(-(sigma**2*diff_G)/2)  \n",
    "            \n",
    "#     widgets.HTML(value=\"Value = \"+str(A))\n",
    "    E,V=scipy.linalg.eig(Eig)\n",
    "    E.sort()\n",
    "    return(E)\n",
    "# E=BandStructF(1,1)\n",
    "# E"
   ]
  },
  {
   "cell_type": "code",
   "execution_count": 74,
   "metadata": {},
   "outputs": [],
   "source": [
    "\n",
    "# TextB.value=str(A+1)"
   ]
  },
  {
   "cell_type": "code",
   "execution_count": 42,
   "metadata": {},
   "outputs": [],
   "source": [
    "# import scipy.linalg\n",
    "# E,V=scipy.linalg.eig(Eig)\n",
    "# E.sort()"
   ]
  },
  {
   "cell_type": "code",
   "execution_count": null,
   "metadata": {},
   "outputs": [],
   "source": []
  },
  {
   "cell_type": "code",
   "execution_count": null,
   "metadata": {},
   "outputs": [],
   "source": []
  },
  {
   "cell_type": "code",
   "execution_count": 46,
   "metadata": {},
   "outputs": [],
   "source": [
    "# NormC*((k_x+G_list[1,0])**2+(k_y+G_list[1,1])**2)"
   ]
  },
  {
   "cell_type": "code",
   "execution_count": null,
   "metadata": {},
   "outputs": [],
   "source": []
  },
  {
   "cell_type": "code",
   "execution_count": null,
   "metadata": {},
   "outputs": [],
   "source": []
  }
 ],
 "metadata": {
  "kernelspec": {
   "display_name": "Python 3",
   "language": "python",
   "name": "python3"
  },
  "language_info": {
   "codemirror_mode": {
    "name": "ipython",
    "version": 3
   },
   "file_extension": ".py",
   "mimetype": "text/x-python",
   "name": "python",
   "nbconvert_exporter": "python",
   "pygments_lexer": "ipython3",
   "version": "3.6.9"
  },
  "varInspector": {
   "cols": {
    "lenName": 16,
    "lenType": 16,
    "lenVar": 40
   },
   "kernels_config": {
    "python": {
     "delete_cmd_postfix": "",
     "delete_cmd_prefix": "del ",
     "library": "var_list.py",
     "varRefreshCmd": "print(var_dic_list())"
    },
    "r": {
     "delete_cmd_postfix": ") ",
     "delete_cmd_prefix": "rm(",
     "library": "var_list.r",
     "varRefreshCmd": "cat(var_dic_list()) "
    }
   },
   "types_to_exclude": [
    "module",
    "function",
    "builtin_function_or_method",
    "instance",
    "_Feature"
   ],
   "window_display": false
  }
 },
 "nbformat": 4,
 "nbformat_minor": 2
}
