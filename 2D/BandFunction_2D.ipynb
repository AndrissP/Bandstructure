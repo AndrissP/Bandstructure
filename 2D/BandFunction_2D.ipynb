{
 "cells": [
  {
   "cell_type": "markdown",
   "metadata": {},
   "source": [
    "Since we want our quantities to have real numbers (real dimensions), we define a constant to convert the kinetic energy term ( $\\frac{\\hbar^2 (k+K)^2}{2m}$) to electronvolts."
   ]
  },
  {
   "cell_type": "code",
   "execution_count": null,
   "metadata": {
    "collapsed": true
   },
   "outputs": [],
   "source": [
    "from scipy.constants import e, m_e, hbar  \n",
    "NormC = hbar**2/(2*m_e)*10**(20)/e\n"
   ]
  },
  {
   "cell_type": "code",
   "execution_count": 7,
   "metadata": {
    "collapsed": true
   },
   "outputs": [],
   "source": [
    "def BandStructF(*args):\n",
    "    k_x=np.pi/(a)*kx/Len_k \n",
    "    k_y=np.pi/(a)*ky/Len_k\n",
    "    Eig=np.zeros(shape=(NrOfK, NrOfK))\n",
    "    for i in range (NrOfK):\n",
    "        Eig[i,i] = NormC*((k_x+G_list[i,0])**2+(k_y+G_list[i,1])**2) + A\n",
    "        for j in range(i+1,NrOfK):\n",
    "            diff_G=(G_list[i,0]-G_list[j,0])**2+(G_list[i,1]-G_list[j,1])**2\n",
    "            Eig[i,j]=Eig[j,i]=A*np.exp(-(sigma**2*diff_G)/2)  \n",
    "            \n",
    "\n",
    "    E,V=scipy.linalg.eig(Eig)\n",
    "    E.sort()\n",
    "    return(E)"
   ]
  }
 ],
 "metadata": {
  "kernelspec": {
   "display_name": "Python 3",
   "language": "python",
   "name": "python3"
  },
  "language_info": {
   "codemirror_mode": {
    "name": "ipython",
    "version": 3
   },
   "file_extension": ".py",
   "mimetype": "text/x-python",
   "name": "python",
   "nbconvert_exporter": "python",
   "pygments_lexer": "ipython3",
   "version": "3.6.3"
  },
  "varInspector": {
   "cols": {
    "lenName": 16,
    "lenType": 16,
    "lenVar": 40
   },
   "kernels_config": {
    "python": {
     "delete_cmd_postfix": "",
     "delete_cmd_prefix": "del ",
     "library": "var_list.py",
     "varRefreshCmd": "print(var_dic_list())"
    },
    "r": {
     "delete_cmd_postfix": ") ",
     "delete_cmd_prefix": "rm(",
     "library": "var_list.r",
     "varRefreshCmd": "cat(var_dic_list()) "
    }
   },
   "types_to_exclude": [
    "module",
    "function",
    "builtin_function_or_method",
    "instance",
    "_Feature"
   ],
   "window_display": false
  }
 },
 "nbformat": 4,
 "nbformat_minor": 2
}
