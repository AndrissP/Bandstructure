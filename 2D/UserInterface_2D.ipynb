{
 "cells": [
  {
   "cell_type": "markdown",
   "metadata": {},
   "source": [
    "## The wonderful 2 dimensional bandstructure function\n",
    " **Autors:** *Klára Nováková* and *Andris Potrebko* with a vital teoretical support of *Andreas Wacker*, *Tor Sjöstrand* and *Hofmanns* book *Solid State Physics*     \n",
    " **Year:** *2019* \n",
    " \n",
    "### Some descrption is gonna come here\n",
    "\n",
    "#### All of the plots at the moment are not pretty and stupid. The Plotting outside the first Brilluin zone is tricky is has to be dealt later"
   ]
  },
  {
   "cell_type": "code",
   "execution_count": 1,
   "metadata": {
    "scrolled": false
   },
   "outputs": [
    {
     "data": {
      "application/vnd.jupyter.widget-view+json": {
       "model_id": "47f68cc63a7744aa9da22a01680e644e",
       "version_major": 2,
       "version_minor": 0
      },
      "text/plain": [
       "Output()"
      ]
     },
     "metadata": {},
     "output_type": "display_data"
    }
   ],
   "source": [
    "import k3d\n",
    "plot = k3d.plot()\n",
    "\n",
    "vertices = [[0, 0, 0], [0, 0, 1], [1, 0, 0]]\n",
    "indices = [[0, 1, 2]]\n",
    "\n",
    "mesh = k3d.mesh(vertices, indices)\n",
    "\n",
    "plot += mesh\n",
    "# here you would normally create objects to display\n",
    "# and add them to the plot\n",
    "\n",
    "plot.display()"
   ]
  },
  {
   "cell_type": "code",
   "execution_count": 2,
   "metadata": {
    "scrolled": false
   },
   "outputs": [],
   "source": [
    "# %matplotlib notebook\n",
    "import numpy as np\n",
    "import scipy.linalg\n",
    "from mpl_toolkits.mplot3d import Axes3D\n",
    "import matplotlib.pyplot as plt\n",
    "from IPython.core.interactiveshell import InteractiveShell\n",
    "InteractiveShell.ast_node_interactivity = \"all\"\n",
    "import ipywidgets as widgets\n",
    "from ipywidgets import interact, interactive\n",
    "from IPython.display import display\n",
    "from ipywidgets import HBox, Label\n",
    "from ipywidgets import FloatSlider\n",
    "\n",
    "from matplotlib import cm\n",
    "\n",
    "a=3   #Latice constant in Åmstrongs\n",
    "sigma=1 #Very arbitrary value\n",
    "U=15\n",
    "Len_k=15\n",
    "A=-U*np.sqrt(2 *np.pi)*sigma/a\n",
    "NrOfK=5"
   ]
  },
  {
   "cell_type": "code",
   "execution_count": 3,
   "metadata": {},
   "outputs": [],
   "source": [
    "G=2*np.pi/a\n",
    "# G_list=np.array([[-G,G],[-G,0.0],[-G,-G],[0.0,G],[0.0,0.0],[0.0,-G],[G,G],[G,0.0],[G,-G]])\n",
    "# G_list=np.array([[-G,0.0],[0.0,G],[0.0,0.0],[0.0,-G],[G,0.0]])\n",
    "G_list=np.array([[0.0,0.0],[G,0],[0,G],[G,G]])\n",
    "NrOfK = len(G_list)"
   ]
  },
  {
   "cell_type": "markdown",
   "metadata": {},
   "source": [
    "Andreas Wacker wants real numbers (real dimensions), so we define the constant to convert to electronvolts the kinetic energy term (I mean $\\frac{\\hbar^2 (k+K)^2}{2m}$)"
   ]
  },
  {
   "cell_type": "code",
   "execution_count": 4,
   "metadata": {
    "scrolled": false
   },
   "outputs": [],
   "source": [
    "%run BandFunction_2D.ipynb"
   ]
  },
  {
   "cell_type": "code",
   "execution_count": 5,
   "metadata": {
    "scrolled": false
   },
   "outputs": [],
   "source": [
    "# EnergiesFull = Energies[:,:,0:5]\n",
    "# (Energies[:,:,4]-EnergiesFull[:,:,4])/EnergiesFull[:,:,4]"
   ]
  },
  {
   "cell_type": "code",
   "execution_count": 6,
   "metadata": {
    "scrolled": false
   },
   "outputs": [],
   "source": [
    "# a=3   #Latice constant in Åmstrongs\n",
    "# sigma=1 #Very arbitrary value\n",
    "# U=0/100\n",
    "# NrOfK=5\n",
    "# Len_k=5\n",
    "# A=-U*np.sqrt(2 *np.pi)*sigma/a\n",
    "\n",
    "# G=2*np.pi/a\n",
    "# G_list=np.array([[-G,0.0],[G,0.0],[0.0,0.0],[0.0,G],[0.0,-G]])\n",
    "# kx=0\n",
    "# ky=4.5\n",
    "\n",
    "# k_x=np.pi/(a)*kx/Len_k \n",
    "# k_y=np.pi/(a)*ky/Len_k\n",
    "# Eig=np.zeros(shape=(NrOfK, NrOfK))\n",
    "# for i in range (NrOfK):\n",
    "#     Eig[i,i] = NormC*((k_x+G_list[i,0])**2+(k_y+G_list[i,1])**2) + A\n",
    "#     for j in range(i+1,NrOfK):\n",
    "#         diff_G=(G_list[i,0]-G_list[j,0])**2+(G_list[i,1]-G_list[j,1])**2\n",
    "#         Eig[i,j]=Eig[j,i]=A*np.exp(-(sigma**2*diff_G)/2) \n",
    "# Eig\n",
    "# E,V=scipy.linalg.eig(Eig)\n",
    "# # E.sort()\n",
    "# E\n",
    "\n",
    "# #find which energy correcponds to the Brilljoun zone to the right\n",
    "# # if kx>0:\n",
    "# #     if kx>ky:\n",
    "# #         E2=0\n",
    "        "
   ]
  },
  {
   "cell_type": "code",
   "execution_count": 7,
   "metadata": {
    "scrolled": false
   },
   "outputs": [],
   "source": [
    "Energies=np.zeros(shape=(Len_k*2+1, Len_k*2+1, NrOfK))\n",
    "kVect=np.zeros((2,Len_k*2+1,Len_k*2+1))\n",
    "EnergiesR = Energies[:,:,0].copy()"
   ]
  },
  {
   "cell_type": "code",
   "execution_count": 8,
   "metadata": {
    "scrolled": false
   },
   "outputs": [
    {
     "name": "stdout",
     "output_type": "stream",
     "text": [
      "Wall time: 892 ms\n"
     ]
    }
   ],
   "source": [
    "%%time\n",
    "Energies=np.zeros(shape=(Len_k*2+1, Len_k*2+1, NrOfK))\n",
    "kVect=np.zeros((2,Len_k*2+1,Len_k*2+1))\n",
    "\n",
    "for kx in range(-Len_k,Len_k+1):    \n",
    "    for ky in range(-Len_k,Len_k+1):\n",
    "#         %run 2Dbandstructure.ipynb\n",
    "        k_x=np.pi/(a)*kx/Len_k \n",
    "        k_y=np.pi/(a)*ky/Len_k\n",
    "        E=BandStructF()\n",
    "        Energies[kx+Len_k,ky+Len_k]=np.real(E)\n",
    "        \n",
    "        kVect[0,kx+Len_k,ky+Len_k]=k_x\n",
    "        kVect[1,kx+Len_k,ky+Len_k]=k_y\n",
    "        \n",
    "Energies0 = Energies[:,:,0]\n",
    "Energies1 = Energies[:,:,1]"
   ]
  },
  {
   "cell_type": "code",
   "execution_count": 9,
   "metadata": {},
   "outputs": [
    {
     "data": {
      "text/plain": [
       "31"
      ]
     },
     "execution_count": 9,
     "metadata": {},
     "output_type": "execute_result"
    },
    {
     "data": {
      "text/plain": [
       "array([[[-7.12912918, -4.02094917, -4.02094917, -1.53663494],\n",
       "        [-7.20738946, -4.1215802 , -3.90555011, -1.39886513],\n",
       "        [-7.41297392, -4.37314101, -3.58854931, -1.03588798],\n",
       "        ...,\n",
       "        [-6.69215249, -3.86805885, 24.65887855, 27.42727916],\n",
       "        [-6.18812838, -3.36498762, 26.27176497, 29.04111845],\n",
       "        [-5.64714102, -2.8248903 , 27.92196569, 30.69220921]],\n",
       "\n",
       "       [[-7.20738946, -4.1215802 , -3.90555011, -1.39886513],\n",
       "        [-7.28624573, -4.02689203, -3.98381039, -1.26215919],\n",
       "        [-7.49313459, -4.25759544, -3.68431311, -0.90123152],\n",
       "        ...,\n",
       "        [-6.77949162, -3.74358291, 24.56956354, 27.55373492],\n",
       "        [-6.27550135, -3.24047764, 26.1824836 , 29.16754037],\n",
       "        [-5.7345456 , -2.70034854, 27.83271576, 30.81859953]],\n",
       "\n",
       "       [[-7.41297392, -4.37314101, -3.58854931, -1.03588798],\n",
       "        [-7.49313459, -4.25759544, -3.68431311, -0.90123152],\n",
       "        [-7.70286064, -3.99389257, -3.87239405, -0.54429471],\n",
       "        ...,\n",
       "        [-7.00447394, -3.40719018, 24.34049602, 27.89422471],\n",
       "        [-6.50055419, -2.90401379, 25.95348495, 29.5079607 ],\n",
       "        [-5.95966431, -2.36381831, 27.60378149, 31.15895497]],\n",
       "\n",
       "       ...,\n",
       "\n",
       "       [[-6.69215249, -3.86805885, 24.65887855, 27.42727916],\n",
       "        [-6.77949162, -3.74358291, 24.56956354, 27.55373492],\n",
       "        [-7.00447394, -3.40719018, 24.34049602, 27.89422471],\n",
       "        ...,\n",
       "        [-6.38339236, 24.78640848, 25.09585524, 56.26068384],\n",
       "        [-5.87982104, 25.42343371, 26.57565546, 57.87410812],\n",
       "        [-5.33925644, 25.97434647, 28.21585131, 59.52481108]],\n",
       "\n",
       "       [[-6.18812838, -3.36498762, 26.27176497, 29.04111845],\n",
       "        [-6.27550135, -3.24047764, 26.1824836 , 29.16754037],\n",
       "        [-6.50055419, -2.90401379, 25.95348495, 29.5079607 ],\n",
       "        ...,\n",
       "        [-5.87982104, 25.42343371, 26.57565546, 57.87410812],\n",
       "        [-5.37625143, 26.90315176, 27.21276577, 59.4875312 ],\n",
       "        [-4.83568842, 27.57724501, 28.72978386, 61.13823303]],\n",
       "\n",
       "       [[-5.64714102, -2.8248903 , 27.92196569, 30.69220921],\n",
       "        [-5.7345456 , -2.70034854, 27.83271576, 30.81859953],\n",
       "        [-5.95966431, -2.36381831, 27.60378149, 31.15895497],\n",
       "        ...,\n",
       "        [-5.33925644, 25.97434647, 28.21585131, 59.52481108],\n",
       "        [-4.83568842, 27.57724501, 28.72978386, 61.13823303],\n",
       "        [-4.2951269 , 29.09418889, 29.40395386, 62.78893381]]])"
      ]
     },
     "execution_count": 9,
     "metadata": {},
     "output_type": "execute_result"
    }
   ],
   "source": [
    "# Energies[26,26]\n",
    "len(Energies0)\n",
    "Energies"
   ]
  },
  {
   "cell_type": "markdown",
   "metadata": {},
   "source": [
    "#### Some annoying work to find the energies of the second Brilluin zone, i.e the right, left, above, below. The problem is that the energies obtained from the eigenvalue equation are random, so we sorted them. But then from these sorted values we have to sort them again to put in the right coordinate\n",
    "#### If anybody knows a better solution, I am open for that\n"
   ]
  },
  {
   "cell_type": "markdown",
   "metadata": {},
   "source": [
    "For to the right, above and diagonal zone"
   ]
  },
  {
   "cell_type": "code",
   "execution_count": 26,
   "metadata": {},
   "outputs": [
    {
     "data": {
      "text/plain": [
       "4"
      ]
     },
     "execution_count": 26,
     "metadata": {},
     "output_type": "execute_result"
    }
   ],
   "source": [
    "if NrOfK == 4:\n",
    "    Energies0[:Len_k, Len_k+1:] = Energies0[Len_k+1:, Len_k+1:][::-1]\n",
    "#     Energies0[:Len_k, :Len_k] = Energies0[Len_k+1:, Len_k+1:].T\n",
    "#     Energies0[Len_k+1:, :Len_k] = Energies0[:Len_k, :Len_k][::-1]\n",
    "    Energies0[Len_k+1:, :Len_k] = Energies0[:Len_k, Len_k+1:].T\n",
    "    Energies0[:Len_k, :Len_k] = Energies0[Len_k+1:, :Len_k][::-1]\n",
    "\n",
    "#     Energies1[:Len_k,Len_k+1:] = Energies1[Len_k+1:,Len_k+1:][::-1]\n",
    "#     Energies1[Len_k+1:,:Len_k] = Energies1[:Len_k,Len_k+1:].T\n",
    "#     Energies1[:Len_k,:Len_k] = Energies1[Len_k+1:,:Len_k][::-1]\n",
    "\n",
    "\n",
    "NrOfK"
   ]
  },
  {
   "cell_type": "code",
   "execution_count": 23,
   "metadata": {},
   "outputs": [
    {
     "data": {
      "text/plain": [
       "array([[1, 4, 7],\n",
       "       [2, 5, 8],\n",
       "       [3, 6, 9]])"
      ]
     },
     "execution_count": 23,
     "metadata": {},
     "output_type": "execute_result"
    }
   ],
   "source": [
    "np.array([[1,2,3],[4,5,6],[7,8,9]]).T"
   ]
  },
  {
   "cell_type": "code",
   "execution_count": 11,
   "metadata": {},
   "outputs": [],
   "source": [
    "Cond1 = (kVect[0]>=kVect[1])\n",
    "Cond2 = (kVect[0]<kVect[1])\n",
    "# Cond3 = (kVect[0]<0) & (-kVect[0]<=abs(kVect[1]))\n",
    "\n",
    "kVectR = kVect.copy() #To the Right\n",
    "kVectR[0]=kVectR[0]+G\n",
    "kVectU = kVect.copy() #To the Up\n",
    "kVectU[1]=kVectU[1]+G\n",
    "kVect3 = kVect.copy()\n",
    "kVect3[0]=kVect3[0]+G  #On the diagonal\n",
    "kVect3[1]=kVect3[1]+G\n",
    "\n",
    "def EnergiesOut(*args):\n",
    "    EnergiesR[Cond1] = Energies[Cond1,2]\n",
    "    EnergiesR[Cond2] = Energies[Cond2,1]\n",
    "#     EnergiesR[Cond3] = Energies[Cond3,2]\n",
    "#     EnergiesR[Cond4] = Energies1[Cond4]\n",
    "\n",
    "#     EnergiesL = EnergiesR[::-1]\n",
    "    EnergiesU = EnergiesR.T\n",
    "#     EnergiesD = EnergiesL.T\n",
    "    return EnergiesR, EnergiesU\n",
    "\n",
    "EnergiesR, EnergiesU = EnergiesOut()"
   ]
  },
  {
   "cell_type": "markdown",
   "metadata": {},
   "source": [
    "For all 9 zones"
   ]
  },
  {
   "cell_type": "code",
   "execution_count": 12,
   "metadata": {
    "scrolled": false
   },
   "outputs": [],
   "source": [
    "# Cond1 = (kVect[0]>=0) & (kVect[0]>=abs(kVect[1]))\n",
    "# Cond2 = (kVect[0]>=0) & (kVect[0]<=abs(kVect[1]))\n",
    "# Cond3 = (kVect[0]<0) & (-kVect[0]<=abs(kVect[1]))\n",
    "# Cond4 = (kVect[0]<0) & (-kVect[0]>=abs(kVect[1]))\n",
    "\n",
    "# kVectR = kVect.copy()\n",
    "# kVectR[0]=kVectR[0]+G\n",
    "# kVectU = kVect.copy()\n",
    "# kVectU[1]=kVectU[1]+G\n",
    "# kVectL = kVect.copy()\n",
    "# kVectL[0]=kVectL[0]-G\n",
    "# kVectD = kVect.copy()\n",
    "# kVectD[1]=kVectD[1]-G\n",
    "\n",
    "\n",
    "# def EnergiesOut(*args):\n",
    "#     EnergiesR[Cond1] = Energies[Cond1,4]\n",
    "#     EnergiesR[Cond2] = Energies[Cond2,3]\n",
    "#     EnergiesR[Cond3] = Energies[Cond3,2]\n",
    "#     EnergiesR[Cond4] = Energies1[Cond4]\n",
    "\n",
    "#     EnergiesL = EnergiesR[::-1]\n",
    "#     EnergiesU = EnergiesR.T\n",
    "#     EnergiesD = EnergiesL.T\n",
    "#     return EnergiesR, EnergiesL,  EnergiesU, EnergiesD\n",
    "\n",
    "# EnergiesR, EnergiesL, EnergiesU, EnergiesD = EnergiesOut()"
   ]
  },
  {
   "cell_type": "code",
   "execution_count": 13,
   "metadata": {},
   "outputs": [],
   "source": [
    "# EnergiesR = Energies[:,:,0].copy()\n",
    "# Energies11 = Energies[:,:,0].copy()\n",
    "# Cond3 = (kVect[0]<0) & (-kVect[0]<=abs(kVect[1]))\n",
    "# Cond4 = (kVect[0]<0) & (-kVect[0]>=abs(kVect[1]))\n",
    "\n",
    "# Cond5 = (kVect[0]<=0) & (kVect[1]<=0)\n",
    "\n",
    "# kVect1 = kVect.copy()\n",
    "# kVect1=kVect1+G\n",
    "# kVect4 = -kVect1\n",
    "# kVect2 = kVect.copy()\n",
    "# kVect2[0]=kVect2[0]+G\n",
    "# kVect2[1]=kVect2[1]-G\n",
    "# kVect3 = - kVect2\n",
    "\n",
    "\n",
    "# def EnergiesOut(*args):\n",
    "#     EnergiesR[Cond3] = Energies[Cond3,2]\n",
    "#     EnergiesR[Cond4] = Energies1[Cond4]\n",
    "#     Energies11[Cond5] = Energies[Cond5,3]\n",
    "\n",
    "#     EnergiesL = EnergiesR[::-1]\n",
    "#     EnergiesU = EnergiesR.T\n",
    "#     EnergiesD = EnergiesL.T\n",
    "#     return EnergiesR, EnergiesL,  EnergiesU, EnergiesD, Energies11\n",
    "\n",
    "# EnergiesR, EnergiesL, EnergiesU, EnergiesD, Energies1 = EnergiesOut()"
   ]
  },
  {
   "cell_type": "markdown",
   "metadata": {},
   "source": [
    "### Fermi energi"
   ]
  },
  {
   "cell_type": "code",
   "execution_count": 14,
   "metadata": {
    "scrolled": false
   },
   "outputs": [],
   "source": [
    "EF = np.sort(np.append(Energies0,Energies1))[(Len_k*2+1)**2]\n",
    "# EFermi = np.full((10, 10), EF)\n",
    "EFermi = np.full((10,10), EF)\n",
    "kxFermi, kyFermi = np.meshgrid(np.linspace(kVect[0,0,0]*0.8,kVect[0,-1,-1]*1.01,10),\n",
    "                               np.linspace(kVect[0,0,0]*0.8,kVect[0,-1,-1]*1.01,10))\n"
   ]
  },
  {
   "cell_type": "markdown",
   "metadata": {},
   "source": [
    "### Draw also the not calclated regions using the polar coordinates"
   ]
  },
  {
   "cell_type": "code",
   "execution_count": 15,
   "metadata": {
    "scrolled": false
   },
   "outputs": [],
   "source": [
    "#### The neigbouring Brilluin zones in polar coordinates\n",
    "EndK = int(Len_k*np.sqrt(2)) + 1 \n",
    "r = kVect[0][:(EndK),1]+G\n",
    "p = np.linspace(0, 2*np.pi, 50)\n",
    "EnergyPolar = EnergiesR[:(EndK),(Len_k+1)]\n",
    "EnPolar = np.meshgrid(EnergyPolar,p)[0]\n",
    "R, P = np.meshgrid(r, p)\n",
    "# Express the mesh in the cartesian system.\n",
    "X, Y = R*np.cos(P), R*np.sin(P)\n",
    "maxLim = np.max(EnPolar)"
   ]
  },
  {
   "cell_type": "code",
   "execution_count": 16,
   "metadata": {
    "scrolled": false
   },
   "outputs": [
    {
     "data": {
      "text/plain": [
       "1.0471975511965976"
      ]
     },
     "execution_count": 16,
     "metadata": {},
     "output_type": "execute_result"
    }
   ],
   "source": [
    "InRadius = (np.abs(X)<np.max(kVect[0]) ) & ( np.abs(Y)<np.max(kVect[0])) \n",
    "EnPolar[InRadius] = (np.min(Energies)-5000)*2\n",
    "\n",
    "OutRadius = (np.abs(X)>(np.max(kVect[0])*2) ) | ( np.abs(Y)> (np.max(kVect[0])*2) ) \n",
    "EnPolar[OutRadius] = (np.max(Energies)+1000)*2\n",
    "\n",
    "np.max(kVect[0])\n"
   ]
  },
  {
   "cell_type": "code",
   "execution_count": 17,
   "metadata": {
    "scrolled": false
   },
   "outputs": [],
   "source": [
    "# fig1 = plt.figure()\n",
    "# ax1 = plt.axes(projection=\"3d\")\n",
    "# mycmap = plt.cm.viridis\n",
    "# mycmap.set_bad('k', alpha=0)\n",
    "# mycmap.set_under('k', alpha=0)\n",
    "# mycmap.set_over('k', alpha=0)\n",
    "\n",
    "# C1 = ax1.plot_surface(X, Y, EnPolar, cmap=mycmap,vmin=np.min(Energies),vmax=maxLim,linewidth=0, rstride=1, cstride=1)\n",
    "# C2 = ax1.plot_surface(kVect[0],kVect[1], Energies[:,:,0],vmin=np.min(Energies),vmax=maxLim, rstride=1, cstride=1,\n",
    "#                 cmap=mycmap, edgecolor='none')#Energies[:,:,2]\n",
    "# C2 = ax1.plot_surface(kxFermi,kyFermi, EFermi,vmin=np.min(Energies),vmax=maxLim, rstride=1, cstride=1,\n",
    "#                 cmap=mycmap, edgecolor='none')#Energies[:,:,2]\n",
    "# ax1.set_zlim3d(np.min(Energies),maxLim)\n",
    "# cnar = fig1.colorbar(C2)"
   ]
  },
  {
   "cell_type": "code",
   "execution_count": 18,
   "metadata": {
    "scrolled": false
   },
   "outputs": [],
   "source": [
    "# # ?k3d.surface\n",
    "# ?plot.camera\n",
    "# ?k3d.plot"
   ]
  },
  {
   "cell_type": "markdown",
   "metadata": {},
   "source": [
    "### Plot bandstructure surfaces with the second band inclined inside"
   ]
  },
  {
   "cell_type": "code",
   "execution_count": 27,
   "metadata": {},
   "outputs": [
    {
     "data": {
      "application/vnd.jupyter.widget-view+json": {
       "model_id": "6242b7c4620741cb8b3f6b4597af4788",
       "version_major": 2,
       "version_minor": 0
      },
      "text/plain": [
       "Output()"
      ]
     },
     "metadata": {},
     "output_type": "display_data"
    }
   ],
   "source": [
    "plot = k3d.plot(height=320) #,camera_auto_fit=False, grid_auto_fit=False,grid=(-1, -1, -100, 1, 1, 1)\n",
    "# Energies+\n",
    "# Energies0\n",
    "plot += k3d.surface(Energies0.astype(np.float32), xmin=-1, xmax=1, ymin=-1, ymax=1,zmin=0,zmax=0.2)\n",
    "# plot += k3d.surface(Energies1.astype(np.float32), xmin=-1, xmax=1, ymin=-1, ymax=1,zmin=0,zmax=0.2)\n",
    "\n",
    "# plot.camera = [1.039, -0.196, -0.069,  0.25 ,  0.   ,  0.25 ,  0.426, -0.006, 0.905]\n",
    "plot.display()"
   ]
  },
  {
   "cell_type": "code",
   "execution_count": null,
   "metadata": {},
   "outputs": [],
   "source": []
  },
  {
   "cell_type": "code",
   "execution_count": 20,
   "metadata": {
    "scrolled": false
   },
   "outputs": [
    {
     "name": "stdout",
     "output_type": "stream",
     "text": [
      "Using matplotlib backend: Qt5Agg\n"
     ]
    },
    {
     "data": {
      "text/plain": [
       "<mpl_toolkits.mplot3d.art3d.Poly3DCollection at 0x1fd0fd8c518>"
      ]
     },
     "execution_count": 20,
     "metadata": {},
     "output_type": "execute_result"
    },
    {
     "data": {
      "text/plain": [
       "Text(0.5, 0, '$k_x$')"
      ]
     },
     "execution_count": 20,
     "metadata": {},
     "output_type": "execute_result"
    },
    {
     "data": {
      "text/plain": [
       "Text(0.5, 0, '$k_y$')"
      ]
     },
     "execution_count": 20,
     "metadata": {},
     "output_type": "execute_result"
    },
    {
     "data": {
      "text/plain": [
       "Text(0.5, 0, 'Energy')"
      ]
     },
     "execution_count": 20,
     "metadata": {},
     "output_type": "execute_result"
    }
   ],
   "source": [
    "%matplotlib\n",
    "# %%capture\n",
    "fig = plt.figure()\n",
    "ax = plt.axes(projection=\"3d\")\n",
    "ax.plot_surface(kVect[0],kVect[1], Energies0,vmin=np.min(Energies),vmax=np.max(Energies), rstride=1, cstride=1,\n",
    "                cmap='viridis', edgecolor='none')#Energies[:,:,2]\n",
    "# ax.plot_surface(kVectR[0,0:Len_k],kVectR[1,0:Len_k], EnergiesR[0:Len_k],vmin=np.min(Energies),vmax=np.max(Energies),cmap='viridis')\n",
    "# ax.plot_surface(kVect1[0,0:Len_k,0:Len_k],kVect1[1,0:Len_k,0:Len_k], Energies11[0:Len_k,0:Len_k],vmin=np.min(Energies),vmax=np.max(Energies),cmap='viridis')\n",
    "# ax.plot_surface(kVect3[0],kVect3[1], Energies[:,:,3],vmin=np.min(Energies),vmax=np.max(Energies),cmap='viridis')\n",
    "# ax.plot_surface(kVectL[0],kVectL[1], EnergiesL,vmin=np.min(Energies),vmax=np.max(Energies),cmap='viridis')\n",
    "# ax.plot_surface(kVectU[0],kVectU[1], EnergiesU,vmin=np.min(Energies),vmax=np.max(Energies),cmap='viridis')\n",
    "# ax.plot_surface(kVectD[0],kVectD[1], EnergiesD,vmin=np.min(Energies),vmax=np.max(Energies),cmap='viridis')\n",
    "# ax.plot_surface(X, Y, EnPolar, cmap='viridis',vmin=np.min(Energies),vmax=np.max(Energies))\n",
    "\n",
    "ax.set_xlabel('$k_x$')\n",
    "ax.set_ylabel('$k_y$')\n",
    "ax.set_zlabel('Energy')\n",
    "# plt.colorbar(m)\n",
    "\n"
   ]
  },
  {
   "cell_type": "code",
   "execution_count": 21,
   "metadata": {
    "scrolled": false
   },
   "outputs": [],
   "source": [
    "# ColAbove[Len_k:-1,Len_k:-1]"
   ]
  },
  {
   "cell_type": "markdown",
   "metadata": {},
   "source": [
    "### Plot bandstructure surfaces with the second band inclined inside"
   ]
  },
  {
   "cell_type": "code",
   "execution_count": 22,
   "metadata": {
    "scrolled": false
   },
   "outputs": [],
   "source": [
    "# x=np.linspace(-5,5,50)\n",
    "# y = np.linspace(-5, 5, 50)\n",
    "# X, Y = np.meshgrid(x, y)\n",
    "# fig = plt.figure()\n",
    "# Z = (X+Y)**2 + 4* (X-Y)**2\n",
    "# ax = plt.axes(projection=\"3d\")\n",
    "# ax.plot_surface(X,Y,Z,cmap='viridis')\n",
    "\n",
    "# ax.plot([-1.8],[-3],[(-1.8-3)**2 + 4* (-1.8+3)**2],'ro',markersize=10)\n",
    "# ColAbove[Len_k:-1,Len_k:-1]"
   ]
  },
  {
   "cell_type": "code",
   "execution_count": 23,
   "metadata": {},
   "outputs": [],
   "source": [
    "kVectIn = kVect[:,Len_k:-1,Len_k:-1]\n",
    "Energies0In = Energies0[Len_k:-1,Len_k:-1]\n",
    "Energies1In = Energies1[Len_k:-1,Len_k:-1]\n",
    "kxFermiIn,kyFermiIn, EFermiIn = kxFermi[4:-1,4:-1],kyFermi[4:-1,4:-1], EFermi[4:-1,4:-1] \n",
    "# EFermiIn = EFermi[Len_k:-1,Len_k:-1]"
   ]
  },
  {
   "cell_type": "code",
   "execution_count": 24,
   "metadata": {},
   "outputs": [],
   "source": [
    "# %%capture\n",
    "\n",
    "#####Make different colors above/below the Fermi level\n",
    "ColLow, ColAbove = Energies0.copy(),Energies1.copy()\n",
    "\n",
    "def PlotIn(EF, Energies0, Energies1, EFermi, *args):\n",
    "#### Make the colors continuous so that below EF it would be in interval (0;0.4) and above (0.6;1)\n",
    "#### First find the slope\n",
    "    slopeColorL = 0.4/(EF - np.min(Energies0In))\n",
    "    slopeColorH = 0.4/(np.max(Energies1In) - EF)\n",
    "\n",
    "    ColLow[Energies0<EF] = 0#slopeColorL * (Energies[Energies0<EF,0]-np.min(Energies0) )\n",
    "    ColLow[Energies0>EF] = 1#0.6 + slopeColorH * (Energies[Energies0>EF,0] - EF)\n",
    "    ColAbove[Energies1<EF] = 0#slopeColorL * (Energies[Energies1<EF,0] - np.min(Energies0))\n",
    "    ColAbove[Energies1>EF] =1#0.6 + slopeColorH * (Energies[Energies1>EF,0] - EF)\n",
    "\n",
    "    #####Make the plot\n",
    "#     ax1.plot_trisurf(kVectIn[0].flatten(),kVectIn[1].flatten(), EFermiIn.flatten(),alpha=0.3)#Energies[:,:,2] #kVectIn[0],kVectIn[1],\n",
    "    ax1.plot_surface(kVectIn[0],kVectIn[1], Energies1In,facecolors=cm.plasma(ColAbove[Len_k:-1,Len_k:-1]),\n",
    "                    edgecolor='none',alpha=0.99,antialiased=False,zorder=2, shade=True)#Energies[:,:,2]\n",
    "    ax1.plot_surface(kVectIn[0],kVectIn[1], Energies0In,vmin=np.min(Energies),vmax=np.max(Energies1In), rstride=1, cstride=1,\n",
    "                    facecolors=cm.plasma(ColLow[Len_k:-1,Len_k:-1]), edgecolor='none',antialiased=False,zorder=3)#Energies[:,:,2]\n",
    "    ax1.plot_surface(kxFermiIn,kyFermiIn, EFermiIn, rstride=1, cstride=1,color='r',\n",
    "                    edgecolor='none',antialiased=False,zorder=1,alpha=0.3)#Energies[:,:,2]\n",
    "\n",
    "    ax1.set_xlabel('$k_x$ $(1/ \\AA)$')\n",
    "    ax1.set_ylabel('$k_y$ $(1/ \\AA)$')\n",
    "    ax1.set_zlabel('Energy (eV)')\n",
    "    ax1.set_zlim3d(np.min(Energies),np.max(Energies1In))\n",
    "# cnar = fig.colorbar(C2)\n",
    "\n",
    "fig = plt.figure(figsize=plt.figaspect(0.5))\n",
    "ax2 = fig.add_subplot(1, 2, 2)\n",
    "ax1 = fig.add_subplot(1, 2, 1, projection='3d')\n",
    "PlotIn(EF, Energies0, Energies1, EFermi)"
   ]
  },
  {
   "cell_type": "code",
   "execution_count": null,
   "metadata": {},
   "outputs": [],
   "source": []
  },
  {
   "cell_type": "code",
   "execution_count": null,
   "metadata": {},
   "outputs": [],
   "source": []
  },
  {
   "cell_type": "markdown",
   "metadata": {},
   "source": [
    "To plot the whole Brilluin zone in"
   ]
  },
  {
   "cell_type": "code",
   "execution_count": 25,
   "metadata": {
    "scrolled": false
   },
   "outputs": [],
   "source": [
    "# # %%capture\n",
    "\n",
    "# #####Make different colors above/below the Fermi level\n",
    "# ColLow, ColAbove = Energies0.copy(),Energies1.copy()\n",
    "\n",
    "# def PlotIn(EF, Energies0, Energies1, EFermi, *args):\n",
    "# #### Make the colors continuous so that below EF it would be in interval (0;0.4) and above (0.6;1)\n",
    "# #### First find the slope\n",
    "#     slopeColorL = 0.4/(EF - np.min(Energies0))\n",
    "#     slopeColorH = 0.4/(np.max(Energies1) - EF)\n",
    "\n",
    "#     ColLow[Energies0<EF] = slopeColorL * (Energies[Energies0<EF,0]-np.min(Energies0) )\n",
    "#     ColLow[Energies0>EF] = 0.6 + slopeColorH * (Energies[Energies0>EF,0] - EF)\n",
    "#     ColAbove[Energies1<EF] = slopeColorL * (Energies[Energies1<EF,0] - np.min(Energies0))\n",
    "#     ColAbove[Energies1>EF] =0.6 + slopeColorH * (Energies[Energies1>EF,0] - EF)\n",
    "\n",
    "#     #####Make the plot\n",
    "#     ax1.plot_surface(kxFermi,kyFermi, EFermi, rstride=1, cstride=1,color='r',\n",
    "#                     edgecolor='none',alpha=0.3,antialiased=False)#Energies[:,:,2]\n",
    "#     ax1.plot_surface(kVect[0],kVect[1], Energies1,\n",
    "#                     facecolors=cm.plasma(ColAbove),rstride=1, cstride=1,\n",
    "#                     edgecolor='none',antialiased=False)#Energies[:,:,2]\n",
    "#     ax1.plot_surface(kVect[0],kVect[1], Energies0,vmin=np.min(Energies),vmax=np.max(Energies1), rstride=1, cstride=1,\n",
    "#                     facecolors=cm.plasma(ColLow), edgecolor='none',antialiased=False)#Energies[:,:,2]\n",
    "\n",
    "#     ax1.set_xlabel('$k_x$ $(1/ \\AA)$')\n",
    "#     ax1.set_ylabel('$k_y$ $(1/ \\AA)$')\n",
    "#     ax1.set_zlabel('Energy (eV)')\n",
    "#     ax1.set_zlim3d(np.min(Energies),np.max(Energies1-100))\n",
    "# # cnar = fig.colorbar(C2)\n",
    "\n",
    "# fig = plt.figure(figsize=plt.figaspect(0.5))\n",
    "# ax2 = fig.add_subplot(1, 2, 2)\n",
    "# ax1 = fig.add_subplot(1, 2, 1, projection='3d')\n",
    "# PlotIn(EF, Energies0, Energies1, EFermi)"
   ]
  },
  {
   "cell_type": "code",
   "execution_count": null,
   "metadata": {
    "scrolled": false
   },
   "outputs": [],
   "source": []
  },
  {
   "cell_type": "markdown",
   "metadata": {},
   "source": [
    "### The energy band sheme or how it is called\n",
    "I wanted to put on the x axis the distance from the origin to the point, this is why all of the $\\sqrt{k_x^2 + k_y^2}$ appear but it did not look pretty, so I multiply by 2"
   ]
  },
  {
   "cell_type": "code",
   "execution_count": 26,
   "metadata": {
    "scrolled": false
   },
   "outputs": [],
   "source": [
    "# fig2, ax2 = plt.subplots(1,1)\n",
    "\n",
    "def BandStructure(*args):\n",
    "    EnergyDiag = np.diag(Energies0[::-1,:])[:Len_k+1]\n",
    "    kDiag = kVect[1][0,Len_k:]*np.sqrt(2)\n",
    "\n",
    "    ax2.plot(kVect[0][Len_k:,1],Energies0[Len_k:,Len_k])\n",
    "    ax2.plot(np.sqrt(kVect[0][-1,1]**2+(kVect[1][-1,Len_k:])**2*3),Energies0[-1,Len_k:])\n",
    "    ax2.plot(kVect[0][-1,1]*(2+kDiag),EnergyDiag)\n",
    "    # ax2.plot(kVect[1][1,(Len_k+1):(2*Len_k+1)],Energies[(2*Len_k+1),(Len_k+1):(2*Len_k+1),1])\n",
    "\n",
    "    ax2.set_xticks([0,kVect[0][-1,1],kVect[0][-1,1]*2,kVect[0][-1,1]*2+kDiag[-1]])\n",
    "    ax2.set_xticklabels(('X', '$\\Gamma$', 'Y', 'X'))\n",
    "    ax2.tick_params(axis='x', colors='r', grid_color='r', labelsize=16)\n",
    "    # ax2.set_xlabel('$k$') #$(1/ \\AA)$\n",
    "    ax2.set_ylabel('Energy (eV)')\n",
    "\n",
    "BandStructure()"
   ]
  },
  {
   "cell_type": "code",
   "execution_count": null,
   "metadata": {
    "scrolled": false
   },
   "outputs": [],
   "source": []
  },
  {
   "cell_type": "code",
   "execution_count": null,
   "metadata": {
    "scrolled": false
   },
   "outputs": [],
   "source": []
  },
  {
   "cell_type": "markdown",
   "metadata": {},
   "source": [
    "### Begin interaction\n",
    "#### Note that we do not calculate the lattice anymore (kVect, ...), because the lattice does not change"
   ]
  },
  {
   "cell_type": "code",
   "execution_count": 27,
   "metadata": {
    "scrolled": false
   },
   "outputs": [],
   "source": [
    "def f(Pot=U,InOut=1,*args):\n",
    "    global A, kx, ky\n",
    "    U=Pot*20\n",
    "    \n",
    "    A=-U*np.sqrt(2 *np.pi)*sigma/a\n",
    "    for kx in range(-Len_k,Len_k+1):    \n",
    "        for ky in range(-Len_k,Len_k+1):\n",
    "            E=BandStructF()\n",
    "#             %run 2Dbandstructure.ipynb\n",
    "            Energies[kx+Len_k,ky+Len_k]=np.real(E)\n",
    "#             kVect[0,kx+Len_k,ky+Len_k]=kx\n",
    "#             kVect[1,kx+Len_k,ky+Len_k]=ky\n",
    "    ax1.cla()\n",
    "    ax2.cla()\n",
    "    Energies0 = Energies[:,:,0]\n",
    "    Energies1 = Energies[:,:,1]\n",
    "    EF = np.sort(np.append(Energies0,Energies1))[(Len_k*2+1)**2]\n",
    "    EFermi[:,:] = EF\n",
    "    if InOut:\n",
    "        PlotIn(EF, Energies0, Energies1, EFermi)\n",
    "    else:\n",
    "        ax1.plot_surface(kVect[0],kVect[1], Energies0, rstride=1, cstride=1,\n",
    "                    cmap='viridis', edgecolor='none')\n",
    "        ax1.set_xlabel('$k_x (1/ \\AA)$')\n",
    "        ax1.set_ylabel('$k_y (1/ \\AA)$')\n",
    "        ax1.set_zlabel('Energy (eV)')\n",
    "    BandStructure()\n",
    "    \n",
    "    \n",
    "The_Interaction=interactive(f,Pot=widgets.FloatSlider(min=0,max=100,step=1, continuous_update = False),\n",
    "                            InOut=[('Out', 0), ('In', 1)]) "
   ]
  },
  {
   "cell_type": "code",
   "execution_count": null,
   "metadata": {
    "scrolled": false
   },
   "outputs": [],
   "source": []
  },
  {
   "cell_type": "code",
   "execution_count": 28,
   "metadata": {
    "scrolled": false
   },
   "outputs": [],
   "source": [
    "for widg in The_Interaction.children[:-1]:\n",
    "    widg.description = \"\"\n",
    "#     widg.continuous_update = False\n",
    "    \n",
    "\n",
    "pot, InOut = [\n",
    "    The_Interaction.children[i] for i in range(2)]\n",
    "\n",
    "FirstBox = widgets.HBox([Label(r'Potential'), pot, Label(r'Plot Inside/Outside'), InOut])\n"
   ]
  },
  {
   "cell_type": "code",
   "execution_count": 29,
   "metadata": {
    "scrolled": false
   },
   "outputs": [
    {
     "data": {
      "application/vnd.jupyter.widget-view+json": {
       "model_id": "ea6d06afa38e4c9e83c9d3bd82b3f0a6",
       "version_major": 2,
       "version_minor": 0
      },
      "text/plain": [
       "HBox(children=(Label(value='Potential'), FloatSlider(value=0.0, continuous_update=False, step=1.0), Label(valu…"
      ]
     },
     "metadata": {},
     "output_type": "display_data"
    },
    {
     "data": {
      "image/png": "[encoded data removed]",
      "text/plain": [
       "<Figure size 960x480 with 2 Axes>"
      ]
     },
     "execution_count": 29,
     "metadata": {},
     "output_type": "execute_result"
    }
   ],
   "source": [
    "display(FirstBox)\n",
    "fig"
   ]
  },
  {
   "cell_type": "code",
   "execution_count": null,
   "metadata": {
    "scrolled": true
   },
   "outputs": [],
   "source": []
  }
 ],
 "metadata": {
  "kernelspec": {
   "display_name": "Python 3",
   "language": "python",
   "name": "python3"
  },
  "language_info": {
   "codemirror_mode": {
    "name": "ipython",
    "version": 3
   },
   "file_extension": ".py",
   "mimetype": "text/x-python",
   "name": "python",
   "nbconvert_exporter": "python",
   "pygments_lexer": "ipython3",
   "version": "3.6.9"
  },
  "varInspector": {
   "cols": {
    "lenName": 16,
    "lenType": 16,
    "lenVar": 40
   },
   "kernels_config": {
    "python": {
     "delete_cmd_postfix": "",
     "delete_cmd_prefix": "del ",
     "library": "var_list.py",
     "varRefreshCmd": "print(var_dic_list())"
    },
    "r": {
     "delete_cmd_postfix": ") ",
     "delete_cmd_prefix": "rm(",
     "library": "var_list.r",
     "varRefreshCmd": "cat(var_dic_list()) "
    }
   },
   "types_to_exclude": [
    "module",
    "function",
    "builtin_function_or_method",
    "instance",
    "_Feature"
   ],
   "window_display": false
  }
 },
 "nbformat": 4,
 "nbformat_minor": 2
}
