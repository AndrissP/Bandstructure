{
 "cells": [
  {
   "cell_type": "markdown",
   "metadata": {},
   "source": [
    "## The wonderful 2 dimensional bandstructure function\n",
    " **Autors:** *Klára Nováková* and *Andris Potrebko* with a vital teoretical support of *Andreas Wacker*, *Tor Sjöstrand* and *Hofmanns* book *Solid State Physics*     \n",
    " **Year:** *2019* \n",
    " \n",
    "### Some descrption is gonna come here\n",
    "\n",
    "#### All of the plots at the moment are not pretty and stupid. The Plotting outside the first Brilluin zone is tricky is has to be dealt later"
   ]
  },
  {
   "cell_type": "code",
   "execution_count": 337,
   "metadata": {
    "scrolled": false
   },
   "outputs": [],
   "source": [
    "%matplotlib notebook\n",
    "import numpy as np\n",
    "import scipy.linalg\n",
    "from mpl_toolkits.mplot3d import Axes3D\n",
    "import matplotlib.pyplot as plt\n",
    "from IPython.core.interactiveshell import InteractiveShell\n",
    "InteractiveShell.ast_node_interactivity = \"all\"\n",
    "import ipywidgets as widgets\n",
    "from ipywidgets import interact, interactive\n",
    "from IPython.display import display\n",
    "from ipywidgets import HBox, Label\n",
    "from ipywidgets import FloatSlider\n",
    "\n",
    "import k3d\n",
    "\n",
    "from matplotlib import cm\n",
    "\n",
    "a=3   #Latice constant in Åmstrongs\n",
    "sigma=1 #Very arbitrary value\n",
    "U=15\n",
    "Len_k=15\n",
    "A=-U*np.sqrt(2 *np.pi)*sigma/a\n",
    "NrOfK=5"
   ]
  },
  {
   "cell_type": "code",
   "execution_count": 338,
   "metadata": {},
   "outputs": [],
   "source": [
    "G=2*np.pi/a\n",
    "G_list=np.array([[-G,G],[-G,0.0],[-G,-G],[0.0,G],[0.0,0.0],[0.0,-G],[G,G],[G,0.0],[G,-G]])\n",
    "# G_list=np.array([[-G,0.0],[0.0,G],[0.0,0.0],[0.0,-G],[G,0.0]])\n",
    "# G_list=np.array([[0.0,0.0],[G,0],[0,G],[G,G]])\n",
    "NrOfK = len(G_list)"
   ]
  },
  {
   "cell_type": "markdown",
   "metadata": {},
   "source": [
    "Andreas Wacker wants real numbers (real dimensions), so we define the constant to convert to electronvolts the kinetic energy term (I mean $\\frac{\\hbar^2 (k+K)^2}{2m}$)"
   ]
  },
  {
   "cell_type": "code",
   "execution_count": 339,
   "metadata": {
    "scrolled": false
   },
   "outputs": [],
   "source": [
    "%run BandFunction_2D.ipynb"
   ]
  },
  {
   "cell_type": "code",
   "execution_count": 340,
   "metadata": {
    "scrolled": false
   },
   "outputs": [],
   "source": [
    "# a=3   #Latice constant in Åmstrongs\n",
    "# sigma=1 #Very arbitrary value\n",
    "# U=0/100\n",
    "# NrOfK=5\n",
    "# Len_k=5\n",
    "# A=-U*np.sqrt(2 *np.pi)*sigma/a\n",
    "\n",
    "# G=2*np.pi/a\n",
    "# G_list=np.array([[-G,0.0],[G,0.0],[0.0,0.0],[0.0,G],[0.0,-G]])\n",
    "# kx=0\n",
    "# ky=4.5\n",
    "\n",
    "# k_x=np.pi/(a)*kx/Len_k \n",
    "# k_y=np.pi/(a)*ky/Len_k\n",
    "# Eig=np.zeros(shape=(NrOfK, NrOfK))\n",
    "# for i in range (NrOfK):\n",
    "#     Eig[i,i] = NormC*((k_x+G_list[i,0])**2+(k_y+G_list[i,1])**2) + A\n",
    "#     for j in range(i+1,NrOfK):\n",
    "#         diff_G=(G_list[i,0]-G_list[j,0])**2+(G_list[i,1]-G_list[j,1])**2\n",
    "#         Eig[i,j]=Eig[j,i]=A*np.exp(-(sigma**2*diff_G)/2) \n",
    "# Eig\n",
    "# E,V=scipy.linalg.eig(Eig)\n",
    "# # E.sort()\n",
    "# E\n",
    "\n",
    "# #find which energy correcponds to the Brilljoun zone to the right\n",
    "# # if kx>0:\n",
    "# #     if kx>ky:\n",
    "# #         E2=0\n",
    "        "
   ]
  },
  {
   "cell_type": "code",
   "execution_count": 341,
   "metadata": {
    "scrolled": false
   },
   "outputs": [],
   "source": [
    "Energies=np.zeros(shape=(Len_k*2+1, Len_k*2+1, NrOfK))\n",
    "kVect=np.zeros((2,Len_k*2+1,Len_k*2+1))\n",
    "EnergiesR = Energies[:,:,0].copy()"
   ]
  },
  {
   "cell_type": "code",
   "execution_count": 342,
   "metadata": {
    "scrolled": false
   },
   "outputs": [
    {
     "name": "stdout",
     "output_type": "stream",
     "text": [
      "Wall time: 1.75 s\n"
     ]
    }
   ],
   "source": [
    "%%time\n",
    "Energies=np.zeros(shape=(Len_k*2+1, Len_k*2+1, NrOfK))\n",
    "kVect=np.zeros((2,Len_k*2+1,Len_k*2+1))\n",
    "\n",
    "for kx in range(-Len_k,Len_k+1):    \n",
    "    for ky in range(-Len_k,Len_k+1):\n",
    "#         %run 2Dbandstructure.ipynb\n",
    "        k_x=np.pi/(a)*kx/Len_k \n",
    "        k_y=np.pi/(a)*ky/Len_k\n",
    "        E=BandStructF()\n",
    "        Energies[kx+Len_k,ky+Len_k]=np.real(E)\n",
    "        \n",
    "        kVect[0,kx+Len_k,ky+Len_k]=k_x\n",
    "        kVect[1,kx+Len_k,ky+Len_k]=k_y\n",
    "        \n",
    "Energies0 = Energies[:,:,0]\n",
    "Energies1 = Energies[:,:,1]"
   ]
  },
  {
   "cell_type": "markdown",
   "metadata": {},
   "source": [
    "#### Some annoying work to find the energies of the second Brilluin zone, i.e the right, left, above, below. The problem is that the energies obtained from the eigenvalue equation are random, so we sorted them. But then from these sorted values we have to sort them again to put in the right coordinate\n",
    "#### If anybody knows a better solution, I am open for that\n"
   ]
  },
  {
   "cell_type": "markdown",
   "metadata": {},
   "source": [
    "For to the right, above and diagonal zone"
   ]
  },
  {
   "cell_type": "code",
   "execution_count": 343,
   "metadata": {},
   "outputs": [],
   "source": [
    "# if NrOfK == 4:\n",
    "#     Energies0[:Len_k, Len_k+1:] = Energies0[Len_k+1:, Len_k+1:][::-1]\n",
    "# #     Energies0[:Len_k, :Len_k] = Energies0[Len_k+1:, Len_k+1:].T\n",
    "# #     Energies0[Len_k+1:, :Len_k] = Energies0[:Len_k, :Len_k][::-1]\n",
    "#     Energies0[Len_k+1:, :Len_k] = Energies0[:Len_k, Len_k+1:].T\n",
    "#     Energies0[:Len_k, :Len_k] = Energies0[Len_k+1:, :Len_k][::-1]\n",
    "\n",
    "# #     Energies1[:Len_k,Len_k+1:] = Energies1[Len_k+1:,Len_k+1:][::-1]\n",
    "# #     Energies1[Len_k+1:,:Len_k] = Energies1[:Len_k,Len_k+1:].T\n",
    "# #     Energies1[:Len_k,:Len_k] = Energies1[Len_k+1:,:Len_k][::-1]\n",
    "\n",
    "\n",
    "# NrOfK"
   ]
  },
  {
   "cell_type": "code",
   "execution_count": 344,
   "metadata": {
    "scrolled": false
   },
   "outputs": [],
   "source": [
    "# # Energies0[Len_k+1:, Len_k+1:]\n",
    "# Energies0[Len_k+1:,:Len_k] = Energies0[Len_k+1:, Len_k+1:][::-1]\n",
    "# # Energies0[:Len_k, Len_k+1:]\n",
    "# # Energies0[:Len_k, Len_k+1:].T\n",
    "# plot = k3d.plot(height=320) #,camera_auto_fit=False, grid_auto_fit=False,grid=(-1, -1, -100, 1, 1, 1)\n",
    "# # Energies+\n",
    "# # Energies0\n",
    "# plot += k3d.surface(Energies0[Len_k+1:,:Len_k].astype(np.float32), xmin=0, xmax=1, ymin=0, ymax=1,zmin=0,zmax=0.2)\n",
    "# plot.display()"
   ]
  },
  {
   "cell_type": "code",
   "execution_count": 345,
   "metadata": {},
   "outputs": [],
   "source": [
    "# Cond1 = (kVect[0]>=kVect[1])\n",
    "# Cond2 = (kVect[0]<kVect[1])\n",
    "# # Cond3 = (kVect[0]<0) & (-kVect[0]<=abs(kVect[1]))\n",
    "\n",
    "# kVectR = kVect.copy() #To the Right\n",
    "# kVectR[0]=kVectR[0]+G\n",
    "# kVectU = kVect.copy() #To the Up\n",
    "# kVectU[1]=kVectU[1]+G\n",
    "# kVect3 = kVect.copy()\n",
    "# kVect3[0]=kVect3[0]+G  #On the diagonal\n",
    "# kVect3[1]=kVect3[1]+G\n",
    "\n",
    "# def EnergiesOut(*args):\n",
    "#     EnergiesR[Cond1] = Energies[Cond1,2]\n",
    "#     EnergiesR[Cond2] = Energies[Cond2,1]\n",
    "# #     EnergiesR[Cond3] = Energies[Cond3,2]\n",
    "# #     EnergiesR[Cond4] = Energies1[Cond4]\n",
    "\n",
    "# #     EnergiesL = EnergiesR[::-1]\n",
    "#     EnergiesU = EnergiesR.T\n",
    "# #     EnergiesD = EnergiesL.T\n",
    "#     return EnergiesR, EnergiesU\n",
    "\n",
    "# EnergiesR, EnergiesU = EnergiesOut()"
   ]
  },
  {
   "cell_type": "markdown",
   "metadata": {},
   "source": [
    "For all 9 zones"
   ]
  },
  {
   "cell_type": "code",
   "execution_count": 346,
   "metadata": {
    "scrolled": false
   },
   "outputs": [],
   "source": [
    "# Cond1 = (kVect[0]>=0) & (kVect[0]>=abs(kVect[1]))\n",
    "# Cond2 = (kVect[0]>=0) & (kVect[0]<=abs(kVect[1]))\n",
    "# Cond3 = (kVect[0]<0) & (-kVect[0]<=abs(kVect[1]))\n",
    "# Cond4 = (kVect[0]<0) & (-kVect[0]>=abs(kVect[1]))\n",
    "\n",
    "# kVectR = kVect.copy()\n",
    "# kVectR[0]=kVectR[0]+G\n",
    "# kVectU = kVect.copy()\n",
    "# kVectU[1]=kVectU[1]+G\n",
    "# kVectL = kVect.copy()\n",
    "# kVectL[0]=kVectL[0]-G\n",
    "# kVectD = kVect.copy()\n",
    "# kVectD[1]=kVectD[1]-G\n",
    "\n",
    "\n",
    "# def EnergiesOut(*args):\n",
    "#     EnergiesR[Cond1] = Energies[Cond1,4]\n",
    "#     EnergiesR[Cond2] = Energies[Cond2,3]\n",
    "#     EnergiesR[Cond3] = Energies[Cond3,2]\n",
    "#     EnergiesR[Cond4] = Energies1[Cond4]\n",
    "\n",
    "#     EnergiesL = EnergiesR[::-1]\n",
    "#     EnergiesU = EnergiesR.T\n",
    "#     EnergiesD = EnergiesL.T\n",
    "#     return EnergiesR, EnergiesL,  EnergiesU, EnergiesD\n",
    "\n",
    "# EnergiesR, EnergiesL, EnergiesU, EnergiesD = EnergiesOut()"
   ]
  },
  {
   "cell_type": "code",
   "execution_count": 347,
   "metadata": {},
   "outputs": [],
   "source": [
    "# EnergiesR = Energies[:,:,0].copy()\n",
    "# Energies11 = Energies[:,:,0].copy()\n",
    "# Cond3 = (kVect[0]<0) & (-kVect[0]<=abs(kVect[1]))\n",
    "# Cond4 = (kVect[0]<0) & (-kVect[0]>=abs(kVect[1]))\n",
    "\n",
    "# Cond5 = (kVect[0]<=0) & (kVect[1]<=0)\n",
    "\n",
    "# kVect1 = kVect.copy()\n",
    "# kVect1=kVect1+G\n",
    "# kVect4 = -kVect1\n",
    "# kVect2 = kVect.copy()\n",
    "# kVect2[0]=kVect2[0]+G\n",
    "# kVect2[1]=kVect2[1]-G\n",
    "# kVect3 = - kVect2\n",
    "\n",
    "\n",
    "# def EnergiesOut(*args):\n",
    "#     EnergiesR[Cond3] = Energies[Cond3,2]\n",
    "#     EnergiesR[Cond4] = Energies1[Cond4]\n",
    "#     Energies11[Cond5] = Energies[Cond5,3]\n",
    "\n",
    "#     EnergiesL = EnergiesR[::-1]\n",
    "#     EnergiesU = EnergiesR.T\n",
    "#     EnergiesD = EnergiesL.T\n",
    "#     return EnergiesR, EnergiesL,  EnergiesU, EnergiesD, Energies11\n",
    "\n",
    "# EnergiesR, EnergiesL, EnergiesU, EnergiesD, Energies1 = EnergiesOut()"
   ]
  },
  {
   "cell_type": "markdown",
   "metadata": {},
   "source": [
    "### Fermi energi\n",
    "Define initial Fermi energy. This energy will be changed by the interaction later. For the given Fermi energy find how many states are bellow it"
   ]
  },
  {
   "cell_type": "code",
   "execution_count": 348,
   "metadata": {
    "scrolled": false
   },
   "outputs": [],
   "source": [
    "EF=-10\n",
    "BellowF = np.sum(np.sort(Energies.flatten())<=EF)\n",
    "# EF = np.sort(np.append(Energies0,Energies1))[(Len_k*2+1)**2]\n",
    "\n",
    "# # EFermi = np.full((10, 10), EF)\n",
    "EFermi = np.full((10,10), EF)\n",
    "kxFermi, kyFermi = np.meshgrid(np.linspace(kVect[0,0,0]*0.8,kVect[0,-1,-1]*1.01,10),\n",
    "                               np.linspace(kVect[0,0,0]*0.8,kVect[0,-1,-1]*1.01,10))\n"
   ]
  },
  {
   "cell_type": "code",
   "execution_count": null,
   "metadata": {},
   "outputs": [],
   "source": []
  },
  {
   "cell_type": "code",
   "execution_count": 349,
   "metadata": {
    "scrolled": false
   },
   "outputs": [],
   "source": [
    "# fig1 = plt.figure()\n",
    "# ax1 = plt.axes(projection=\"3d\")\n",
    "# mycmap = plt.cm.viridis\n",
    "# mycmap.set_bad('k', alpha=0)\n",
    "# mycmap.set_under('k', alpha=0)\n",
    "# mycmap.set_over('k', alpha=0)\n",
    "\n",
    "# C1 = ax1.plot_surface(X, Y, EnPolar, cmap=mycmap,vmin=np.min(Energies),vmax=maxLim,linewidth=0, rstride=1, cstride=1)\n",
    "# C2 = ax1.plot_surface(kVect[0],kVect[1], Energies[:,:,0],vmin=np.min(Energies),vmax=maxLim, rstride=1, cstride=1,\n",
    "#                 cmap=mycmap, edgecolor='none')#Energies[:,:,2]\n",
    "# C2 = ax1.plot_surface(kxFermi,kyFermi, EFermi,vmin=np.min(Energies),vmax=maxLim, rstride=1, cstride=1,\n",
    "#                 cmap=mycmap, edgecolor='none')#Energies[:,:,2]\n",
    "# ax1.set_zlim3d(np.min(Energies),maxLim)\n",
    "# cnar = fig1.colorbar(C2)"
   ]
  },
  {
   "cell_type": "code",
   "execution_count": 350,
   "metadata": {
    "scrolled": false
   },
   "outputs": [],
   "source": [
    "# # ?k3d.surface\n",
    "# ?plot.camera\n",
    "# ?k3d.plot\n",
    "\n",
    "# Energies0A"
   ]
  },
  {
   "cell_type": "markdown",
   "metadata": {},
   "source": [
    "### Plot bandstructure surfaces with the second band inclined inside"
   ]
  },
  {
   "cell_type": "code",
   "execution_count": 351,
   "metadata": {},
   "outputs": [],
   "source": [
    "# ?k3d.surface\n",
    "# np.max(kVect[0])\n",
    "# ?k3d.colormaps\n",
    "# Energies[Energies0<=EF-10]\n",
    "\n",
    "def Colors3DPlot(Energies0,Energies1,EF):  \n",
    "    Energies0A = Energies0.copy()\n",
    "    Energies1B = Energies1.copy()\n",
    "    if EF<np.nanmax(Energies0):\n",
    "        Energies0A[Energies0<=EF] = np.nan\n",
    "        Energies1B[:,:] = np.nan\n",
    "    elif EF>np.nanmin(Energies1):\n",
    "        Energies1B[Energies1>=EF] = np.nan\n",
    "        Energies0A[:,:] = np.nan\n",
    "    else:\n",
    "        Energies1B[:,:] = np.nan\n",
    "        Energies0A[:,:] = np.nan\n",
    "        \n",
    "    return Energies0A, Energies1B\n",
    "        \n",
    "Energies0A, Energies1B = Colors3DPlot(Energies0,Energies1,EF)"
   ]
  },
  {
   "cell_type": "code",
   "execution_count": 352,
   "metadata": {},
   "outputs": [],
   "source": [
    "# Energies0A = Energies0.copy()\n",
    "# Energies1B = Energies1.copy()\n",
    "# if EF<np.max(Energies0):\n",
    "#         Energies0A[Energies0<=EF] = np.nan\n",
    "#         Energies1B[:,:] = np.nan\n",
    "# EF+=1\n",
    "# EF<np.max(Energies0)\n"
   ]
  },
  {
   "cell_type": "code",
   "execution_count": 358,
   "metadata": {},
   "outputs": [
    {
     "data": {
      "application/vnd.jupyter.widget-view+json": {
       "model_id": "fb8bbfda72ea427d80063e7a9667390c",
       "version_major": 2,
       "version_minor": 0
      },
      "text/plain": [
       "Output()"
      ]
     },
     "metadata": {},
     "output_type": "display_data"
    }
   ],
   "source": [
    "# %%capture\n",
    "plot = k3d.plot(height=500) #,camera_auto_fit=False,grid_auto_fit=True, ,grid=(-1, -1, -100, 1, 1, 1)\n",
    "\n",
    "# Extend = int(np.max(Energies1) - np.min(Energies0)) #isn't really needed\n",
    "Extend = 20\n",
    "bounds = [np.min(kVect[0])*Extend, np.max(kVect[0])*Extend]*2\n",
    "EnergyP1 = k3d.surface(Energies0.astype(np.float32),bounds=bounds)\n",
    "EnergyP2 = k3d.surface(Energies0A.astype(np.float32),bounds=bounds, color=0x68e738)\n",
    "EnergyP3 = k3d.surface(Energies1.astype(np.float32),bounds=bounds, color=0x68e738)\n",
    "EnergyP4= k3d.surface(Energies1B.astype(np.float32),bounds = bounds)\n",
    "FermiP = k3d.surface(EFermi.astype(np.float32),bounds = bounds, color=0xefa5a5)\n",
    "FermiP.wireframe = True\n",
    "\n",
    "\n",
    "plot.axes = ['k_x \\cdot '+ str(Extend),'k_x \\cdot '+ str(Extend),'E, eV']\n",
    "plot += EnergyP1 + EnergyP2 + EnergyP3 + EnergyP4 + FermiP\n",
    "# plot.camera = [-Extend*3, Extend/2, Extend/2,  0 ,  0.   ,  0 ,  0.0, -0.018, +1.805]\n",
    "# plot += k3d.surface(Energies[:,:,2].astype(np.float32),bounds=[-1, 1, -1, 1])\n",
    "# plot.grid = [1000,1,-1000,1,-1000,20]\n",
    "# plot.background_color = 0Xffff\n",
    "# plot.grid_visible = False\n",
    "plot.axes_helper = 0\n",
    "# Energy1.wireframe = True\n",
    "# plot.display()"
   ]
  },
  {
   "cell_type": "code",
   "execution_count": 331,
   "metadata": {},
   "outputs": [],
   "source": [
    "\n",
    "# plot.display()"
   ]
  },
  {
   "cell_type": "code",
   "execution_count": 293,
   "metadata": {},
   "outputs": [],
   "source": [
    "# plot.camera = [-Extend*2/3, -Extend*3/2, Extend/2,  0 ,  0.   ,  0 ,  0.0, -0.018, +1.805]\n",
    "# EnergyP3.bounds=[1,1,1,1]"
   ]
  },
  {
   "cell_type": "markdown",
   "metadata": {},
   "source": [
    "### Matplotlib plot"
   ]
  },
  {
   "cell_type": "code",
   "execution_count": 215,
   "metadata": {
    "scrolled": false
   },
   "outputs": [],
   "source": [
    "%%capture\n",
    "fig = plt.figure()\n",
    "ax = plt.axes(projection=\"3d\")\n",
    "ax.plot_surface(kVect[0],kVect[1], Energies0,vmin=np.min(Energies),vmax=np.max(Energies), rstride=1, cstride=1,\n",
    "                cmap='viridis', edgecolor='none')#Energies[:,:,2]\n",
    "# ax.plot_surface(kVectR[0,0:Len_k],kVectR[1,0:Len_k], EnergiesR[0:Len_k],vmin=np.min(Energies),vmax=np.max(Energies),cmap='viridis')\n",
    "# ax.plot_surface(kVect1[0,0:Len_k,0:Len_k],kVect1[1,0:Len_k,0:Len_k], Energies11[0:Len_k,0:Len_k],vmin=np.min(Energies),vmax=np.max(Energies),cmap='viridis')\n",
    "# ax.plot_surface(kVect3[0],kVect3[1], Energies[:,:,3],vmin=np.min(Energies),vmax=np.max(Energies),cmap='viridis')\n",
    "# ax.plot_surface(kVectL[0],kVectL[1], EnergiesL,vmin=np.min(Energies),vmax=np.max(Energies),cmap='viridis')\n",
    "# ax.plot_surface(kVectU[0],kVectU[1], EnergiesU,vmin=np.min(Energies),vmax=np.max(Energies),cmap='viridis')\n",
    "# ax.plot_surface(kVectD[0],kVectD[1], EnergiesD,vmin=np.min(Energies),vmax=np.max(Energies),cmap='viridis')\n",
    "# ax.plot_surface(X, Y, EnPolar, cmap='viridis',vmin=np.min(Energies),vmax=np.max(Energies))\n",
    "\n",
    "ax.set_xlabel('$k_x$')\n",
    "ax.set_ylabel('$k_y$')\n",
    "ax.set_zlabel('Energy')\n",
    "# plt.colorbar(m)\n",
    "\n"
   ]
  },
  {
   "cell_type": "code",
   "execution_count": 216,
   "metadata": {
    "scrolled": false
   },
   "outputs": [],
   "source": [
    "# ColAbove[Len_k:-1,Len_k:-1]"
   ]
  },
  {
   "cell_type": "markdown",
   "metadata": {},
   "source": [
    "### Old matplotlib plot"
   ]
  },
  {
   "cell_type": "code",
   "execution_count": 217,
   "metadata": {
    "scrolled": false
   },
   "outputs": [],
   "source": [
    "# x=np.linspace(-5,5,50)\n",
    "# y = np.linspace(-5, 5, 50)\n",
    "# X, Y = np.meshgrid(x, y)\n",
    "# fig = plt.figure()\n",
    "# Z = (X+Y)**2 + 4* (X-Y)**2\n",
    "# ax = plt.axes(projection=\"3d\")\n",
    "# ax.plot_surface(X,Y,Z,cmap='viridis')\n",
    "\n",
    "# ax.plot([-1.8],[-3],[(-1.8-3)**2 + 4* (-1.8+3)**2],'ro',markersize=10)\n",
    "# ColAbove[Len_k:-1,Len_k:-1]"
   ]
  },
  {
   "cell_type": "code",
   "execution_count": 218,
   "metadata": {},
   "outputs": [],
   "source": [
    "kVectIn = kVect[:,Len_k:-1,Len_k:-1]\n",
    "Energies0In = Energies0[Len_k:-1,Len_k:-1]\n",
    "Energies1In = Energies1[Len_k:-1,Len_k:-1]\n",
    "kxFermiIn,kyFermiIn, EFermiIn = kxFermi[4:-1,4:-1],kyFermi[4:-1,4:-1], EFermi[4:-1,4:-1] \n",
    "# EFermiIn = EFermi[Len_k:-1,Len_k:-1]"
   ]
  },
  {
   "cell_type": "code",
   "execution_count": 219,
   "metadata": {},
   "outputs": [],
   "source": [
    "%%capture\n",
    "\n",
    "#####Make different colors above/below the Fermi level\n",
    "ColLow, ColAbove = Energies0.copy(),Energies1.copy()\n",
    "\n",
    "def PlotIn(EF, Energies0, Energies1, EFermi, *args):\n",
    "#### Make the colors continuous so that below EF it would be in interval (0;0.4) and above (0.6;1)\n",
    "#### First find the slope\n",
    "    slopeColorL = 0.4/(EF - np.min(Energies0In))\n",
    "    slopeColorH = 0.4/(np.max(Energies1In) - EF)\n",
    "\n",
    "    ColLow[Energies0<EF] = 0#slopeColorL * (Energies[Energies0<EF,0]-np.min(Energies0) )\n",
    "    ColLow[Energies0>EF] = 1#0.6 + slopeColorH * (Energies[Energies0>EF,0] - EF)\n",
    "    ColAbove[Energies1<EF] = 0#slopeColorL * (Energies[Energies1<EF,0] - np.min(Energies0))\n",
    "    ColAbove[Energies1>EF] =1#0.6 + slopeColorH * (Energies[Energies1>EF,0] - EF)\n",
    "\n",
    "    #####Make the plot\n",
    "#     ax1.plot_trisurf(kVectIn[0].flatten(),kVectIn[1].flatten(), EFermiIn.flatten(),alpha=0.3)#Energies[:,:,2] #kVectIn[0],kVectIn[1],\n",
    "    ax1.plot_surface(kVectIn[0],kVectIn[1], Energies1In,facecolors=cm.plasma(ColAbove[Len_k:-1,Len_k:-1]),\n",
    "                    edgecolor='none',alpha=0.99,antialiased=False,zorder=2, shade=True)#Energies[:,:,2]\n",
    "    ax1.plot_surface(kVectIn[0],kVectIn[1], Energies0In,vmin=np.min(Energies),vmax=np.max(Energies1In), rstride=1, cstride=1,\n",
    "                    facecolors=cm.plasma(ColLow[Len_k:-1,Len_k:-1]), edgecolor='none',antialiased=False,zorder=3)#Energies[:,:,2]\n",
    "    ax1.plot_surface(kxFermiIn,kyFermiIn, EFermiIn, rstride=1, cstride=1,color='r',\n",
    "                    edgecolor='none',antialiased=False,zorder=1,alpha=0.3)#Energies[:,:,2]\n",
    "\n",
    "    ax1.set_xlabel('$k_x$ $(1/ \\AA)$')\n",
    "    ax1.set_ylabel('$k_y$ $(1/ \\AA)$')\n",
    "    ax1.set_zlabel('Energy (eV)')\n",
    "    ax1.set_zlim3d(np.min(Energies),np.max(Energies1In))\n",
    "# cnar = fig.colorbar(C2)\n",
    "\n",
    "fig = plt.figure(figsize=plt.figaspect(0.5))\n",
    "ax2 = fig.add_subplot(1, 2, 2)\n",
    "ax1 = fig.add_subplot(1, 2, 1, projection='3d')\n",
    "PlotIn(EF, Energies0, Energies1, EFermi)"
   ]
  },
  {
   "cell_type": "code",
   "execution_count": null,
   "metadata": {},
   "outputs": [],
   "source": []
  },
  {
   "cell_type": "code",
   "execution_count": null,
   "metadata": {},
   "outputs": [],
   "source": []
  },
  {
   "cell_type": "markdown",
   "metadata": {},
   "source": [
    "To plot the whole Brilluin zone in"
   ]
  },
  {
   "cell_type": "code",
   "execution_count": 220,
   "metadata": {
    "scrolled": false
   },
   "outputs": [],
   "source": [
    "# # %%capture\n",
    "\n",
    "# #####Make different colors above/below the Fermi level\n",
    "# ColLow, ColAbove = Energies0.copy(),Energies1.copy()\n",
    "\n",
    "# def PlotIn(EF, Energies0, Energies1, EFermi, *args):\n",
    "# #### Make the colors continuous so that below EF it would be in interval (0;0.4) and above (0.6;1)\n",
    "# #### First find the slope\n",
    "#     slopeColorL = 0.4/(EF - np.min(Energies0))\n",
    "#     slopeColorH = 0.4/(np.max(Energies1) - EF)\n",
    "\n",
    "#     ColLow[Energies0<EF] = slopeColorL * (Energies[Energies0<EF,0]-np.min(Energies0) )\n",
    "#     ColLow[Energies0>EF] = 0.6 + slopeColorH * (Energies[Energies0>EF,0] - EF)\n",
    "#     ColAbove[Energies1<EF] = slopeColorL * (Energies[Energies1<EF,0] - np.min(Energies0))\n",
    "#     ColAbove[Energies1>EF] =0.6 + slopeColorH * (Energies[Energies1>EF,0] - EF)\n",
    "\n",
    "#     #####Make the plot\n",
    "#     ax1.plot_surface(kxFermi,kyFermi, EFermi, rstride=1, cstride=1,color='r',\n",
    "#                     edgecolor='none',alpha=0.3,antialiased=False)#Energies[:,:,2]\n",
    "#     ax1.plot_surface(kVect[0],kVect[1], Energies1,\n",
    "#                     facecolors=cm.plasma(ColAbove),rstride=1, cstride=1,\n",
    "#                     edgecolor='none',antialiased=False)#Energies[:,:,2]\n",
    "#     ax1.plot_surface(kVect[0],kVect[1], Energies0,vmin=np.min(Energies),vmax=np.max(Energies1), rstride=1, cstride=1,\n",
    "#                     facecolors=cm.plasma(ColLow), edgecolor='none',antialiased=False)#Energies[:,:,2]\n",
    "\n",
    "#     ax1.set_xlabel('$k_x$ $(1/ \\AA)$')\n",
    "#     ax1.set_ylabel('$k_y$ $(1/ \\AA)$')\n",
    "#     ax1.set_zlabel('Energy (eV)')\n",
    "#     ax1.set_zlim3d(np.min(Energies),np.max(Energies1-100))\n",
    "# # cnar = fig.colorbar(C2)\n",
    "\n",
    "# fig = plt.figure(figsize=plt.figaspect(0.5))\n",
    "# ax2 = fig.add_subplot(1, 2, 2)\n",
    "# ax1 = fig.add_subplot(1, 2, 1, projection='3d')\n",
    "# PlotIn(EF, Energies0, Energies1, EFermi)"
   ]
  },
  {
   "cell_type": "code",
   "execution_count": null,
   "metadata": {
    "scrolled": false
   },
   "outputs": [],
   "source": []
  },
  {
   "cell_type": "markdown",
   "metadata": {},
   "source": [
    "### The energy band sheme or how it is called\n",
    "I wanted to put on the x axis the distance from the origin to the point, this is why all of the $\\sqrt{k_x^2 + k_y^2}$ appear but it did not look pretty, so I multiply by 2"
   ]
  },
  {
   "cell_type": "code",
   "execution_count": 317,
   "metadata": {
    "scrolled": false
   },
   "outputs": [],
   "source": [
    "%%capture\n",
    "fig2, ax2 = plt.subplots(1,1)\n",
    "\n",
    "def BandStructure(Energies, Energies0,*args):\n",
    "    EnergyDiag = np.diag(Energies[::-1,:,0])[:Len_k+1]\n",
    "    kDiag = kVect[1][0,Len_k:]*np.sqrt(2)\n",
    "\n",
    "    ax2.plot(kVect[0][Len_k:,1],Energies0[Len_k:,Len_k])\n",
    "    ax2.plot(np.sqrt(kVect[0][-1,1]**2+(kVect[1][-1,Len_k:])**2*3),Energies0[-1,Len_k:])\n",
    "    ax2.plot(kVect[0][-1,1]*(2+kDiag),EnergyDiag)\n",
    "    # ax2.plot(kVect[1][1,(Len_k+1):(2*Len_k+1)],Energies[(2*Len_k+1),(Len_k+1):(2*Len_k+1),1])\n",
    "\n",
    "    ax2.set_xticks([0,kVect[0][-1,1],kVect[0][-1,1]*2,kVect[0][-1,1]*2+kDiag[-1]])\n",
    "    ax2.set_xticklabels(('X', '$\\Gamma$', 'Y', 'X'))\n",
    "    ax2.tick_params(axis='x', colors='r', grid_color='r', labelsize=16)\n",
    "    # ax2.set_xlabel('$k$') #$(1/ \\AA)$\n",
    "    ax2.set_ylabel('Energy (eV)')\n",
    "\n",
    "BandStructure(Energies, Energies0)"
   ]
  },
  {
   "cell_type": "code",
   "execution_count": null,
   "metadata": {
    "scrolled": false
   },
   "outputs": [],
   "source": []
  },
  {
   "cell_type": "code",
   "execution_count": null,
   "metadata": {
    "scrolled": false
   },
   "outputs": [],
   "source": []
  },
  {
   "cell_type": "markdown",
   "metadata": {},
   "source": [
    "### Begin interaction\n",
    "#### Note that we do not calculate the lattice anymore (kVect, ...), because the lattice does not change"
   ]
  },
  {
   "cell_type": "code",
   "execution_count": 300,
   "metadata": {
    "scrolled": false
   },
   "outputs": [],
   "source": [
    "# DebugGuy = widgets.HTML(\n",
    "#     value=str(EF),\n",
    "#     placeholder='Some HTML',\n",
    "# )\n",
    "\n",
    "BellowPrint = r\"&emsp; Number of states bellow \\( E_F \\) is <b>{}</b> \"\n",
    "PrintValue = widgets.HTMLMath(\n",
    "    value=BellowPrint.format(BellowF),\n",
    "    placeholder='Some HTML',\n",
    ")\n",
    "\n",
    "RezoomPlot = 0\n",
    "def f(Pot=U,FullOrFourth=0, EFerm=EF, *args):\n",
    "    global A, kx, ky, RezoomPlot\n",
    "    U=Pot/2\n",
    "    EF = EFerm\n",
    "    EFermi[:,:] = EF\n",
    "    print('Here')\n",
    "    A=-U*np.sqrt(2 *np.pi)*sigma/a\n",
    "    for kx in range(-Len_k,Len_k+1):    \n",
    "        for ky in range(-Len_k,Len_k+1):\n",
    "            E=BandStructF()\n",
    "#             %run 2Dbandstructure.ipynb\n",
    "            Energies[kx+Len_k,ky+Len_k]=np.real(E)\n",
    "#             kVect[0,kx+Len_k,ky+Len_k]=kx\n",
    "#             kVect[1,kx+Len_k,ky+Len_k]=ky\n",
    "#     ax1.cla()\n",
    "    \n",
    "    print('Here2')\n",
    "#     EF = np.sort(np.append(Energies0,Energies1))[(Len_k*2+1)**2]\n",
    "    Energies0 = Energies[:,:,0].copy()\n",
    "    Energies1 = Energies[:,:,1].copy()\n",
    "    if FullOrFourth:\n",
    "        Energies0[(kVect[0]<0) | (kVect[1]<0)] = np.nan\n",
    "        Energies1[(kVect[0]<0) | (kVect[1]<0)] = np.nan\n",
    "    Energies0A, Energies1B = Colors3DPlot(Energies0,Energies1,EF)\n",
    "    \n",
    "    if RezoomPlot != FullOrFourth:\n",
    "        if FullOrFourth:\n",
    "            plot.camera = [-Extend*2/3, -Extend*3/2, Extend/2,  0 ,  0.   ,  0 ,  0.0, -0.018, +1.805]\n",
    "        else:\n",
    "            plot.camera = [-Extend*3, Extend/2, Extend/2,  0 ,  0.   ,  0 ,  0.0, -0.018, +1.805]\n",
    "    EnergyP1.heights = Energies0\n",
    "    EnergyP2.heights = Energies0A\n",
    "    EnergyP3.heights = Energies1\n",
    "    EnergyP4.heights = Energies1B\n",
    "    FermiP.heights = EFermi\n",
    "#     if InOut:\n",
    "#         PlotIn(EF, Energies0, Energies1, EFermi)\n",
    "#     else:\n",
    "#         ax1.plot_surface(kVect[0],kVect[1], Energies0, rstride=1, cstride=1,\n",
    "#                     cmap='viridis', edgecolor='none')\n",
    "#         ax1.set_xlabel('$k_x (1/ \\AA)$')\n",
    "#         ax1.set_ylabel('$k_y (1/ \\AA)$')\n",
    "#         ax1.set_zlabel('Energy (eV)')\n",
    "    ax2.cla()\n",
    "    BandStructure(Energies, Energies0)\n",
    "    \n",
    "#     DebugGuy.value = str(EF)\n",
    "    \n",
    "    ###Update the value of the number of states bellow Fermi to be printed out \n",
    "    BellowF = np.sum(np.sort(Energies.flatten())<=EF)\n",
    "    PrintValue.value = BellowPrint.format(BellowF)\n",
    "    RezoomPlot = FullOrFourth\n",
    "    \n",
    "The_Interaction=interactive(f,Pot=widgets.IntSlider(min=0,max=100,step=1,value = U, continuous_update = False),\n",
    "                            FullOrFourth=[('Full', 0), ('1/4', 1)],\n",
    "                            EFerm = widgets.IntSlider(min = int(np.nanmin(Energies0)),max= int(np.nanmax(Energies[:,:,3])),\n",
    "                                                      step = 1,value = EF, continuous_update = False) ) "
   ]
  },
  {
   "cell_type": "code",
   "execution_count": 301,
   "metadata": {},
   "outputs": [],
   "source": [
    "for widg in The_Interaction.children[:-1]:\n",
    "    widg.description = \"\"\n",
    "#     widg.continuous_update = False\n",
    "    \n",
    "\n",
    "pot, InOut, EFerm = [\n",
    "    The_Interaction.children[i] for i in range(3)]"
   ]
  },
  {
   "cell_type": "code",
   "execution_count": 302,
   "metadata": {},
   "outputs": [],
   "source": [
    "def updateMaxMin(*args):\n",
    "    if int(np.nanmin(Energies0)) > EFerm.max:\n",
    "        EFerm.max = int(np.nanmax(Energies[:,:,3]))\n",
    "        EFerm.min = int(np.nanmin(Energies0) )\n",
    "    else:\n",
    "        EFerm.min = int(np.nanmin(Energies0) )\n",
    "        EFerm.max = int(np.nanmax(Energies[:,:,3]))\n",
    "pot.observe(updateMaxMin, 'value')"
   ]
  },
  {
   "cell_type": "code",
   "execution_count": 315,
   "metadata": {
    "scrolled": false
   },
   "outputs": [],
   "source": [
    "# %%time\n",
    "FirstBox = widgets.HBox([Label(r'Potential'), pot, Label(r'Full or 1/4'), InOut])\n",
    "SecondBox = widgets.HBox([Label(r'Fermi Energy'), EFerm, PrintValue])\n",
    "ToDisplay = widgets.VBox([FirstBox,SecondBox])"
   ]
  },
  {
   "cell_type": "code",
   "execution_count": 304,
   "metadata": {
    "scrolled": false
   },
   "outputs": [],
   "source": [
    "# display(ToDisplay)\n",
    "# # DebugGuy\n",
    "# plot\n",
    "# fig2"
   ]
  },
  {
   "cell_type": "code",
   "execution_count": null,
   "metadata": {
    "scrolled": true
   },
   "outputs": [],
   "source": []
  },
  {
   "cell_type": "code",
   "execution_count": 313,
   "metadata": {},
   "outputs": [],
   "source": [
    "# if 1:\n",
    "#     Energies0[(kVect[0]<0) | (kVect[1]<0)] = np.nan\n",
    "#     Energies1[(kVect[0]<0) | (kVect[1]<0)] = np.nan\n",
    "Energies0A, Energies1B = Colors3DPlot(Energies0,Energies1,EF)"
   ]
  },
  {
   "cell_type": "code",
   "execution_count": null,
   "metadata": {},
   "outputs": [],
   "source": []
  }
 ],
 "metadata": {
  "kernelspec": {
   "display_name": "Python 3",
   "language": "python",
   "name": "python3"
  },
  "language_info": {
   "codemirror_mode": {
    "name": "ipython",
    "version": 3
   },
   "file_extension": ".py",
   "mimetype": "text/x-python",
   "name": "python",
   "nbconvert_exporter": "python",
   "pygments_lexer": "ipython3",
   "version": "3.6.9"
  },
  "varInspector": {
   "cols": {
    "lenName": 16,
    "lenType": 16,
    "lenVar": 40
   },
   "kernels_config": {
    "python": {
     "delete_cmd_postfix": "",
     "delete_cmd_prefix": "del ",
     "library": "var_list.py",
     "varRefreshCmd": "print(var_dic_list())"
    },
    "r": {
     "delete_cmd_postfix": ") ",
     "delete_cmd_prefix": "rm(",
     "library": "var_list.r",
     "varRefreshCmd": "cat(var_dic_list()) "
    }
   },
   "types_to_exclude": [
    "module",
    "function",
    "builtin_function_or_method",
    "instance",
    "_Feature"
   ],
   "window_display": false
  }
 },
 "nbformat": 4,
 "nbformat_minor": 2
}
