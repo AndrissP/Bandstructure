{
 "cells": [
  {
   "cell_type": "markdown",
   "metadata": {},
   "source": [
    "## The wonderful 1 dimensional bandstructure function\n",
    " **Autors:** *Klára Nováková* and *Andris Potrebko* with a vital teoretical support of *Andreas Wacker*, *Tor Sjöstrand* and *Hofmanns* book *Solid State Physics*\n",
    " **Year:** *2019*\n",
    " \n",
    "### Some descrption is gonna come here\n",
    "\n",
    "#### All of the plots at the moment are not pretty and stupid. The Plotting outside the first Brilluin zone is tricky is has to delt later"
   ]
  },
  {
   "cell_type": "code",
   "execution_count": 19,
   "metadata": {},
   "outputs": [],
   "source": [
    "%matplotlib notebook \n",
    "# Usual imports\n",
    "import matplotlib.pyplot as plt\n",
    "import numpy as np\n",
    "\n",
    "# pretty print all cell's output and not just the last one\n",
    "from IPython.core.interactiveshell import InteractiveShell\n",
    "InteractiveShell.ast_node_interactivity = \"all\"\n",
    "\n",
    "# Widgets imports\n",
    "import ipywidgets as widgets\n",
    "from ipywidgets import interact, interactive\n",
    "from IPython.display import display\n",
    "from ipywidgets import HBox, Label\n",
    "from ipywidgets import IntSlider"
   ]
  },
  {
   "cell_type": "markdown",
   "metadata": {},
   "source": [
    "#### Summary from all of the different notes we have:\n",
    "\n",
    "We have the Gaussian potential $V(x)=-U\\sum_n e^{-(x-na)^2/2\\sigma^2}$ which is writen in Fourier components as: $V(x)=\\sum_{G_j}-U\\sqrt {2\\pi}\\frac{\\sigma}{a}e^{-G^2_j \\sigma^2/2} e^{i G_j x} \\equiv  \\sum_{G_j} V_{G_j} \\cdot e^{i G_j x}$.\n",
    "\n",
    "We are solving the eigenvalue equation:\n",
    "$\\Big( \\frac{\\hbar^2 (k+K)^2}{2m} - \\varepsilon \\Big) c_{k+K} +\\sum_G c_{k+K-G} V_G$ and search for $\\varepsilon$ - the energy eigenvalues."
   ]
  },
  {
   "cell_type": "markdown",
   "metadata": {},
   "source": [
    "Define different stuff\n",
    "* Don't confuse, *K* is a reciprocal lattice vector, *k* is a wave vector $k\\in [-\\pi/a; \\pi/a)$ (number of *k* vectors is *Len_k*)\n",
    "* *MaxK* - maximal reciprocal lattice vector we consider including in the sum ($K$ or $K-G$). Then summation goes from *-MaxK* to *MaxK*"
   ]
  },
  {
   "cell_type": "markdown",
   "metadata": {},
   "source": [
    "### Define some initial values. Interactive part will later change these variables"
   ]
  },
  {
   "cell_type": "code",
   "execution_count": 20,
   "metadata": {},
   "outputs": [],
   "source": [
    "a=3   #Latice constant in Åmstrongs\n",
    "sigma=0.5 #Very arbitrary value\n",
    "U=11     #eV\n",
    "maxK=6  \n",
    "Len_k=15\n",
    "\n",
    "NrOfK=maxK*2+1"
   ]
  },
  {
   "cell_type": "markdown",
   "metadata": {},
   "source": [
    "The ampliture of $V_G$ we call $A$, thus $A \\equiv -U\\sqrt {2\\pi}\\frac{\\sigma}{a}$ and  $V_G = A e^{-G^2 \\sigma^2/2} $"
   ]
  },
  {
   "cell_type": "code",
   "execution_count": 21,
   "metadata": {},
   "outputs": [],
   "source": [
    "A=-U*np.sqrt(2 *np.pi)*sigma/a"
   ]
  },
  {
   "cell_type": "code",
   "execution_count": 23,
   "metadata": {},
   "outputs": [
    {
     "data": {
      "text/plain": [
       "0.6065306597126334"
      ]
     },
     "execution_count": 23,
     "metadata": {},
     "output_type": "execute_result"
    }
   ],
   "source": [
    "np.exp(-0.5)"
   ]
  },
  {
   "cell_type": "markdown",
   "metadata": {},
   "source": [
    "*BandStructureFunction.ipynb* file contains a function *BandStructF* which creates the matrix described above and solves for the eigenvalues.\n",
    "*%run* does import of the function found in the file"
   ]
  },
  {
   "cell_type": "code",
   "execution_count": 4,
   "metadata": {},
   "outputs": [],
   "source": [
    "%run BandStructureFunction.ipynb"
   ]
  },
  {
   "cell_type": "markdown",
   "metadata": {},
   "source": [
    "Solve eigenvalue equation for each wave number *k*\n",
    "* Put k vector into right magnitude.  Before *k* is some integer $k =.. -2,-1,0,1..$. Save the obtained value in *kVect*\n",
    "* Save calculated energies in *Energies*"
   ]
  },
  {
   "cell_type": "code",
   "execution_count": 5,
   "metadata": {},
   "outputs": [
    {
     "name": "stdout",
     "output_type": "stream",
     "text": [
      "Wall time: 100 ms\n"
     ]
    }
   ],
   "source": [
    "%%time\n",
    "Energies=np.zeros(shape=(Len_k*2+1, NrOfK))\n",
    "kVect=[0]*(Len_k*2+1) #Vector for plotting containing all of the k values in 1/Angstrom\n",
    "for ki in range(-Len_k,Len_k+1):\n",
    "    k=np.pi/(a)*ki/Len_k\n",
    "#     %run BandStructureFunction.ipynb\n",
    "    E = BandStructF()\n",
    "    Energies[ki+Len_k]=np.real(E)\n",
    "    kVect[ki+Len_k]=k #in 1/Angstrom"
   ]
  },
  {
   "cell_type": "code",
   "execution_count": null,
   "metadata": {},
   "outputs": [],
   "source": []
  },
  {
   "cell_type": "markdown",
   "metadata": {},
   "source": [
    "## Plots"
   ]
  },
  {
   "cell_type": "markdown",
   "metadata": {},
   "source": [
    "### Plot potential\n",
    "\n",
    "Plots are hidden so that they would not appear when running the interface. To make the plots visible either comment out the lines containg *%%capture* or comment out the cell containing *fig*"
   ]
  },
  {
   "cell_type": "code",
   "execution_count": 6,
   "metadata": {},
   "outputs": [],
   "source": [
    "%%capture \n",
    "#If you want to display the figure here, then uncomment previous line\n",
    "from matplotlib import pyplot as plt\n",
    "%matplotlib notebook \n",
    "%matplotlib notebook \n",
    "fig, [ax,ax2]=plt.subplots(nrows=1, ncols=2)  #Two plots in the same figure\n",
    "fig.set_size_inches(9.5, 3.5)\n",
    "fig.subplots_adjust(wspace=0.4, bottom=0.2) #Margins around the subplots\n",
    "\n",
    "\n",
    "x=np.linspace(-5*a,5*a,401)  \n",
    "#length of the x vector should be an odd number so that 0 is included,\n",
    "#otherwise it does not plot the peak correctly\n",
    "Vx=-U*np.exp(-x**2/(2*sigma**2))\n",
    "VxSum=[0]*len(x)\n",
    "for n in range(-5,6):\n",
    "    Vx1=-U*np.exp(-(x-n*a)**2/(2*sigma**2))\n",
    "    ax.plot(x,Vx1,'y--')\n",
    "    VxSum=VxSum+Vx1\n",
    "ax.plot(x,VxSum)\n",
    "ax.plot(x,Vx)\n",
    "ax.set(xlabel='a, ($\\AA$)',ylabel='V (eV)', title='Atomic potential')"
   ]
  },
  {
   "cell_type": "markdown",
   "metadata": {},
   "source": [
    "### Plot energies"
   ]
  },
  {
   "cell_type": "code",
   "execution_count": 7,
   "metadata": {
    "scrolled": false
   },
   "outputs": [],
   "source": [
    "%%capture\n",
    "ax2.plot(kVect,Energies[:,0:5], color='purple')\n",
    "ax2.set(xlabel='k ($1/ \\AA$)',ylabel='E (eV)', title='Band structure')"
   ]
  },
  {
   "cell_type": "code",
   "execution_count": 8,
   "metadata": {},
   "outputs": [],
   "source": [
    "# fig"
   ]
  },
  {
   "cell_type": "markdown",
   "metadata": {},
   "source": [
    "### The interactive part starts here\n",
    "\n",
    "Function *f* is going to repeat everything above whenever some of the widgets are going to be used. Function *interactive* is making these widgets and connecting them to the function *f*."
   ]
  },
  {
   "cell_type": "code",
   "execution_count": 9,
   "metadata": {},
   "outputs": [],
   "source": [
    "def f(Lattice_Constant=a, Amplitude=U, NumKVec=maxK, PlotK=5):\n",
    "    global a,A, k, Len_k, maxK, U, NrOfK  #So that BandStructureFunction.ipynb knows the variables used in a function f\n",
    "    a=Lattice_Constant\n",
    "    U=Amplitude\n",
    "    maxK=NumKVec\n",
    "    A=-U*np.sqrt(2 *np.pi)*sigma/a #np.sqrt(2*sigma) \n",
    "    NrOfK=maxK*2+1\n",
    "    Energies=np.zeros(shape=(Len_k*2+1, NrOfK))\n",
    "    kVect=[0]*(Len_k*2+1)\n",
    "    for ki in range(-Len_k,Len_k+1):\n",
    "        k=np.pi/(a)*ki/Len_k\n",
    "        E = BandStructF()\n",
    "#         %run BandStructureFunction.ipynb\n",
    "        Energies[ki+Len_k]=np.real(E)\n",
    "        kVect[ki+Len_k]=k\n",
    "    ax.cla()\n",
    "    ax.set(xlabel='a, ($\\AA$)',ylabel='V (eV)', title='Atomic potential')\n",
    "    x=np.linspace(-5*a,5*a,401)\n",
    "    Vx=-U*np.exp(-x**2/(2*sigma**2))\n",
    "    VxSum=[0]*len(x)\n",
    "    for n in range(-5,6):\n",
    "        Vx1=-U*np.exp(-(x-n*a)**2/(2*sigma**2))\n",
    "        ax.plot(x,Vx1,'y--')\n",
    "        VxSum=VxSum+Vx1\n",
    "        \n",
    "  \n",
    "    ax.plot(x,VxSum)\n",
    "    ax.plot(x,Vx)\n",
    "   \n",
    "    ax2.cla()\n",
    "    ax2.set(xlabel='k ($1/ \\AA$)',ylabel='E (eV)', title='Band structure')\n",
    "    ax2.plot(kVect, Energies[:,0:PlotK],color='purple')\n",
    "\n",
    "    #return Energies\n",
    "\n",
    "The_Interaction=interactive(f,Lattice_Constant=(1,10,0.5),Amplitude=(0,100,1), NumKVec=(1,20,1),PlotK=(0,10,1) ) "
   ]
  },
  {
   "cell_type": "code",
   "execution_count": null,
   "metadata": {},
   "outputs": [],
   "source": []
  },
  {
   "cell_type": "markdown",
   "metadata": {},
   "source": [
    "### Create boxed for widgets to be displayed"
   ]
  },
  {
   "cell_type": "code",
   "execution_count": 10,
   "metadata": {},
   "outputs": [],
   "source": [
    "for widg in The_Interaction.children[:-1]:\n",
    "    widg.description = \"\"\n",
    "    widg.continuous_update = False\n",
    "    \n",
    "\n",
    "Lattice_Const, Potential_Amp, Num_Of_K, PlotK = [The_Interaction.children[i] for i in range(4)]\n",
    "\n",
    "#display(Lattice_Const,Potential_Amp ,Num_Of_K )\n",
    "FirstBox = widgets.HBox([Label(r'Lattice constant (Å)'), Lattice_Const, Label(r'Potential depth, (eV)'), Potential_Amp,])\n",
    "SecondBox = widgets.HBox([ Label (r'N of K vectors'), Num_Of_K, Label (r'How many bands to plot'), PlotK])"
   ]
  },
  {
   "cell_type": "markdown",
   "metadata": {},
   "source": [
    "That, how many bands we have calculated depends *maxK* as $2\\cdot maxK + 1$. So we make that the maximal possible band to plot changes accordingly"
   ]
  },
  {
   "cell_type": "code",
   "execution_count": 11,
   "metadata": {
    "scrolled": false
   },
   "outputs": [],
   "source": [
    "def PlotKMax(*args):\n",
    "    PlotK.max = 2*Num_Of_K.value+1\n",
    "\n",
    "Num_Of_K.observe(PlotKMax, 'value')"
   ]
  },
  {
   "cell_type": "markdown",
   "metadata": {},
   "source": [
    "We can calculate the theoretical minimum of the first band"
   ]
  },
  {
   "cell_type": "code",
   "execution_count": null,
   "metadata": {},
   "outputs": [],
   "source": []
  },
  {
   "cell_type": "markdown",
   "metadata": {},
   "source": [
    "#Trying to check something"
   ]
  },
  {
   "cell_type": "code",
   "execution_count": 24,
   "metadata": {},
   "outputs": [],
   "source": [
    "V0=U*5  *1.9e-19 #eV, potential depth\n",
    "E0 = hbar/sigma*np.sqrt(V0/(m_e)) *1e10/(1.9e-19)"
   ]
  },
  {
   "cell_type": "markdown",
   "metadata": {},
   "source": [
    "Some attempt checking using that near the Brilluin zone boundary $E_{1,2} \\approx \\frac{\\hbar^2}{4m}(2k^2 - 2kg +g^2) \\pm \\sqrt{\\frac{\\hbar^4}{16m^2}(k^2 - (k-g)^2)^2 + U^2}$\n",
    "that is proven in Solid Stete theory course"
   ]
  },
  {
   "cell_type": "code",
   "execution_count": 13,
   "metadata": {},
   "outputs": [],
   "source": [
    "E2 = NormC*(np.pi/a)**2 -np.sqrt( (NormC*(np.pi/a)**2)**2 + U**2  )\n",
    "\n",
    "E1 = NormC*(np.pi/a)**2 + np.sqrt( (NormC*(np.pi/a)**2)**2 + U**2  )"
   ]
  },
  {
   "cell_type": "code",
   "execution_count": 25,
   "metadata": {},
   "outputs": [
    {
     "data": {
      "text/plain": [
       "37.5981260341162"
      ]
     },
     "execution_count": 25,
     "metadata": {},
     "output_type": "execute_result"
    }
   ],
   "source": [
    "E0"
   ]
  },
  {
   "cell_type": "code",
   "execution_count": 14,
   "metadata": {},
   "outputs": [
    {
     "data": {
      "text/plain": [
       "-7.588646540495164"
      ]
     },
     "execution_count": 14,
     "metadata": {},
     "output_type": "execute_result"
    },
    {
     "data": {
      "text/plain": [
       "15.944872297623794"
      ]
     },
     "execution_count": 14,
     "metadata": {},
     "output_type": "execute_result"
    }
   ],
   "source": [
    "E2\n",
    "E1"
   ]
  },
  {
   "cell_type": "code",
   "execution_count": 15,
   "metadata": {},
   "outputs": [
    {
     "data": {
      "text/plain": [
       "8.35622575712863"
      ]
     },
     "execution_count": 15,
     "metadata": {},
     "output_type": "execute_result"
    }
   ],
   "source": [
    "E1+E2"
   ]
  },
  {
   "cell_type": "code",
   "execution_count": 16,
   "metadata": {},
   "outputs": [
    {
     "data": {
      "text/plain": [
       "-0.41737229159251843"
      ]
     },
     "execution_count": 16,
     "metadata": {},
     "output_type": "execute_result"
    }
   ],
   "source": [
    "K=0\n",
    "ki=15\n",
    "k = np.pi/(a)*ki/Len_k\n",
    "NormC*(k+K)**2 + A"
   ]
  },
  {
   "cell_type": "code",
   "execution_count": null,
   "metadata": {},
   "outputs": [],
   "source": []
  },
  {
   "cell_type": "code",
   "execution_count": 17,
   "metadata": {},
   "outputs": [
    {
     "data": {
      "text/plain": [
       "1.0471975511965976"
      ]
     },
     "execution_count": 17,
     "metadata": {},
     "output_type": "execute_result"
    }
   ],
   "source": [
    "k"
   ]
  },
  {
   "cell_type": "code",
   "execution_count": 18,
   "metadata": {},
   "outputs": [
    {
     "data": {
      "text/plain": [
       "-4.5954851701568336"
      ]
     },
     "execution_count": 18,
     "metadata": {},
     "output_type": "execute_result"
    }
   ],
   "source": [
    "A"
   ]
  },
  {
   "cell_type": "code",
   "execution_count": null,
   "metadata": {},
   "outputs": [],
   "source": []
  }
 ],
 "metadata": {
  "kernelspec": {
   "display_name": "Python 3",
   "language": "python",
   "name": "python3"
  },
  "language_info": {
   "codemirror_mode": {
    "name": "ipython",
    "version": 3
   },
   "file_extension": ".py",
   "mimetype": "text/x-python",
   "name": "python",
   "nbconvert_exporter": "python",
   "pygments_lexer": "ipython3",
   "version": "3.6.9"
  },
  "varInspector": {
   "cols": {
    "lenName": 16,
    "lenType": 16,
    "lenVar": 40
   },
   "kernels_config": {
    "python": {
     "delete_cmd_postfix": "",
     "delete_cmd_prefix": "del ",
     "library": "var_list.py",
     "varRefreshCmd": "print(var_dic_list())"
    },
    "r": {
     "delete_cmd_postfix": ") ",
     "delete_cmd_prefix": "rm(",
     "library": "var_list.r",
     "varRefreshCmd": "cat(var_dic_list()) "
    }
   },
   "types_to_exclude": [
    "module",
    "function",
    "builtin_function_or_method",
    "instance",
    "_Feature"
   ],
   "window_display": false
  }
 },
 "nbformat": 4,
 "nbformat_minor": 2
}
