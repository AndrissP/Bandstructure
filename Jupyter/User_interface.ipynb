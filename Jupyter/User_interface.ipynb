{
 "cells": [
  {
   "cell_type": "code",
   "execution_count": 1,
   "metadata": {},
   "outputs": [],
   "source": [
    "%matplotlib notebook \n",
    "import matplotlib.pyplot as plt\n",
    "import numpy as np\n",
    "from ipywidgets import HBox, Label\n",
    "from ipywidgets import IntSlider\n",
    "\n",
    "# pretty print all cell's output and not just the last one\n",
    "from IPython.core.interactiveshell import InteractiveShell\n",
    "InteractiveShell.ast_node_interactivity = \"all\""
   ]
  },
  {
   "cell_type": "markdown",
   "metadata": {},
   "source": [
    "Summary from all of the different notes we have:\n",
    "\n",
    "We have the Gaussian potential $V(x)=-U\\sum_n e^{-(x-na)^2/2\\sigma^2}$ which is writen in Fourier components as: $V(x)=\\sum_{G_j}-U\\sqrt {2\\pi}\\frac{\\sigma}{a}e^{-G^2_j \\sigma^2/2} e^{i G_j x} \\equiv  \\sum_{G_j} V_{G_j} \\cdot e^{i G_j x}$.\n",
    "\n",
    "We are solving the eigenvalue equation:\n",
    "$\\Big( \\frac{\\hbar^2 (k+K)^2}{2m} - \\varepsilon \\Big) c_{k+K} +\\sum_G c_{k+K-G} V_G$ and search for $\\varepsilon$ - the energy eigenvectors."
   ]
  },
  {
   "cell_type": "markdown",
   "metadata": {},
   "source": [
    "Define different stuff\n",
    "* Don't confuse, *K* is a reciprocal lattice vector, *k* is a wave vector $k\\in [-\\pi/a; \\pi/a)$\n",
    "* *MaxK* - maximal reciprocal lattice vector we consider including in the sum ($K$ or $K-G$). Then summation goes from *-MaxK* to *MaxK*\n",
    "* *N_k* - in how many peaces we split $[0, \\pi/a)$\n",
    "* Potential here and energy later at the moment is in arbitrary units, but need to be calculated. I believe I could make it all pretier by multiplying only at the end with some constant which would bring units. Otherwise it does not look good now"
   ]
  },
  {
   "cell_type": "code",
   "execution_count": null,
   "metadata": {},
   "outputs": [],
   "source": []
  },
  {
   "cell_type": "code",
   "execution_count": 76,
   "metadata": {},
   "outputs": [],
   "source": [
    "a=3   #Latice constant in Åmstrongs\n",
    "sigma=0.5 #Very arbitrary value\n",
    "U=10     #\n",
    "maxK=6  \n",
    "NrOfK=maxK*2+1\n",
    "Len_k=15\n",
    "\n"
   ]
  },
  {
   "cell_type": "markdown",
   "metadata": {},
   "source": [
    "The ampliture of $V_G$ we call $A$, thus $A \\equiv -U\\sqrt {2\\pi}\\frac{\\sigma}{a}$ and  $V_G = A e^{-G^2 \\sigma^2/2} $"
   ]
  },
  {
   "cell_type": "code",
   "execution_count": 69,
   "metadata": {},
   "outputs": [],
   "source": [
    "A=-U*np.sqrt(2*sigma)*np.sqrt(2 *np.pi)*sigma/a"
   ]
  },
  {
   "cell_type": "markdown",
   "metadata": {},
   "source": [
    "Run Bandstructure file for each *k* value"
   ]
  },
  {
   "cell_type": "code",
   "execution_count": 70,
   "metadata": {},
   "outputs": [],
   "source": [
    "Energies=np.zeros(shape=(Len_k*2+1, NrOfK))\n",
    "kVect=[0]*(Len_k*2+1) #Vector for plotting containing all of the k values in 1/Angstrom\n",
    "for ki in range(-Len_k,Len_k+1):\n",
    "    k=np.pi/(2*a)*ki/Len_k  #I am a bit confused why /2a\n",
    "    %run BandStructureFunction.ipynb\n",
    "    Energies[ki+Len_k]=np.real(E)\n",
    "    kVect[ki+Len_k]=k #in 1/Angstrom"
   ]
  },
  {
   "cell_type": "code",
   "execution_count": null,
   "metadata": {},
   "outputs": [],
   "source": []
  },
  {
   "cell_type": "markdown",
   "metadata": {},
   "source": [
    "Plot potentials"
   ]
  },
  {
   "cell_type": "code",
   "execution_count": 73,
   "metadata": {},
   "outputs": [],
   "source": [
    "%%capture\n",
    "from matplotlib import pyplot as plt\n",
    "%matplotlib notebook \n",
    "%matplotlib notebook \n",
    "#If you want to display the figure here, then uncomment previous line\n",
    "fig, [ax,ax2]=plt.subplots(nrows=1, ncols=2)  #Two plots in the same figure\n",
    "\n",
    "x=np.linspace(-5*a,5*a,401)  \n",
    "#length of the x vector should be an odd number so that 0 is included,\n",
    "#otherwise it does not plot the peak correctly\n",
    "Vx=-U*np.exp(-x**2/(2*sigma**2))\n",
    "VxSum=[0]*len(x)\n",
    "for n in range(-5,6):\n",
    "    Vx1=-U*np.exp(-(x-n*a)**2/(2*sigma**2))\n",
    "    ax.plot(x,Vx1,'y--')\n",
    "    VxSum=VxSum+Vx1\n",
    "ax.plot(x,VxSum)\n",
    "ax.plot(x,Vx)\n",
    "ax.set(xlabel='a, $\\AA$',ylabel='V, arb. u', title='Atomic potential')"
   ]
  },
  {
   "cell_type": "markdown",
   "metadata": {},
   "source": [
    "Plot energies"
   ]
  },
  {
   "cell_type": "code",
   "execution_count": 72,
   "metadata": {
    "scrolled": false
   },
   "outputs": [],
   "source": [
    "%%capture\n",
    "ax2.plot(kVect,Energies[:,0:5], color='purple')\n",
    "ax2.set(xlabel='k, $1/ \\AA$',ylabel='E, arb. u', title='Band structure')"
   ]
  },
  {
   "cell_type": "code",
   "execution_count": 41,
   "metadata": {},
   "outputs": [],
   "source": [
    "fig.set_size_inches(9.5, 3.5)\n",
    "fig.subplots_adjust(wspace=0.4, bottom=0.2) #Margins around the subplots"
   ]
  },
  {
   "cell_type": "code",
   "execution_count": null,
   "metadata": {},
   "outputs": [],
   "source": []
  },
  {
   "cell_type": "code",
   "execution_count": 42,
   "metadata": {},
   "outputs": [],
   "source": [
    "import ipywidgets as widgets\n",
    "from ipywidgets import interact, interactive\n",
    "from IPython.display import display\n",
    "\n",
    "#fig, [ax,ax2]=plt.subplots(nrows=1, ncols=2)  #Two plots in the same figure"
   ]
  },
  {
   "cell_type": "code",
   "execution_count": 45,
   "metadata": {},
   "outputs": [],
   "source": [
    "def f(Lattice_Constant=a, Amplitude=U, NumKVec=maxK, PlotK=5):\n",
    "    global a,A, k, Len_k, maxK, U, NrOfK  #So that BandStructureFunction.ipynb knows the variables used in a function f\n",
    "    a=Lattice_Constant\n",
    "    U=Amplitude\n",
    "    maxK=NumKVec\n",
    "    #sigma=0.5 #Very arbitrary value\n",
    "    A=-U*np.sqrt(2 *np.pi)*sigma/a #np.sqrt(2*sigma)\n",
    "    NrOfK=maxK*2+1\n",
    "    Energies=np.zeros(shape=(Len_k*2+1, NrOfK))\n",
    "    kVect=[0]*(Len_k*2+1)\n",
    "    for ki in range(-Len_k,Len_k+1):\n",
    "        k=np.pi/(2*a)*ki/Len_k  #I am a bit confused why /2a\n",
    "        %run BandStructureFunction.ipynb\n",
    "        Energies[ki+Len_k]=np.real(E)\n",
    "        kVect[ki+Len_k]=k\n",
    "    ax.cla()\n",
    "    x=np.linspace(-5*a,5*a,401)\n",
    "    Vx=-U*np.exp(-x**2/(2*sigma**2))\n",
    "    VxSum=[0]*len(x)\n",
    "    for n in range(-5,6):\n",
    "        Vx1=-U*np.exp(-(x-n*a)**2/(2*sigma**2))\n",
    "        ax.plot(x,Vx1,'y--')\n",
    "        VxSum=VxSum+Vx1\n",
    "        \n",
    "  \n",
    "    ax.plot(x,VxSum)\n",
    "    ax.plot(x,Vx)\n",
    "    ax.set(xlabel='a, $\\AA$',ylabel='V, eV', title='Atomic potential')\n",
    "   \n",
    "    ax2.cla()\n",
    "    ax2.plot(kVect, Energies[:,0:PlotK],color='purple')\n",
    "    ax2.set(xlabel='k, $1/ \\AA$',ylabel='E, eV', title='Band structure')\n",
    "    \n",
    "    #return Energies\n",
    "\n",
    "The_Interaction=interactive(f,Lattice_Constant=(1,10,0.5),Amplitude=(0,50,1), NumKVec=(1,20,1),PlotK=(0,10,1) ) "
   ]
  },
  {
   "cell_type": "code",
   "execution_count": null,
   "metadata": {},
   "outputs": [],
   "source": []
  },
  {
   "cell_type": "code",
   "execution_count": 44,
   "metadata": {},
   "outputs": [],
   "source": [
    "for widg in The_Interaction.children[:-1]:\n",
    "    widg.description = \"\"\n",
    "    widg.continuous_update = False\n",
    "    \n",
    "\n",
    "Lattice_Const, Potential_Amp, Num_Of_K, PlotK = [The_Interaction.children[i] for i in range(4)]\n",
    "\n",
    "#display(Lattice_Const,Potential_Amp ,Num_Of_K )\n",
    "FirstBox = widgets.HBox([Label(r'Lattice constant'), Lattice_Const, Label(r'Potential depth'), Potential_Amp,])\n",
    "SecondBox = widgets.HBox([ Label (r'N of k vectors'), Num_Of_K, Label (r'How many bands to plot'), PlotK])"
   ]
  },
  {
   "cell_type": "code",
   "execution_count": null,
   "metadata": {
    "scrolled": false
   },
   "outputs": [],
   "source": []
  },
  {
   "cell_type": "markdown",
   "metadata": {},
   "source": [
    "We can calculate the theoretical minimum of the first band"
   ]
  },
  {
   "cell_type": "code",
   "execution_count": 81,
   "metadata": {},
   "outputs": [],
   "source": [
    "V0=U*5  *1.9e-19 #eV, potential depth\n",
    "E0 = hbar/sigma*np.sqrt(V0/(m)) *1e10/(1.9e-19)"
   ]
  },
  {
   "cell_type": "code",
   "execution_count": 82,
   "metadata": {},
   "outputs": [
    {
     "data": {
      "text/plain": [
       "359.4228737144295"
      ]
     },
     "execution_count": 82,
     "metadata": {},
     "output_type": "execute_result"
    }
   ],
   "source": [
    "E0"
   ]
  },
  {
   "cell_type": "code",
   "execution_count": null,
   "metadata": {},
   "outputs": [],
   "source": []
  }
 ],
 "metadata": {
  "kernelspec": {
   "display_name": "Python 3",
   "language": "python",
   "name": "python3"
  },
  "language_info": {
   "codemirror_mode": {
    "name": "ipython",
    "version": 3
   },
   "file_extension": ".py",
   "mimetype": "text/x-python",
   "name": "python",
   "nbconvert_exporter": "python",
   "pygments_lexer": "ipython3",
   "version": "3.6.9"
  },
  "varInspector": {
   "cols": {
    "lenName": 16,
    "lenType": 16,
    "lenVar": 40
   },
   "kernels_config": {
    "python": {
     "delete_cmd_postfix": "",
     "delete_cmd_prefix": "del ",
     "library": "var_list.py",
     "varRefreshCmd": "print(var_dic_list())"
    },
    "r": {
     "delete_cmd_postfix": ") ",
     "delete_cmd_prefix": "rm(",
     "library": "var_list.r",
     "varRefreshCmd": "cat(var_dic_list()) "
    }
   },
   "types_to_exclude": [
    "module",
    "function",
    "builtin_function_or_method",
    "instance",
    "_Feature"
   ],
   "window_display": false
  }
 },
 "nbformat": 4,
 "nbformat_minor": 2
}
